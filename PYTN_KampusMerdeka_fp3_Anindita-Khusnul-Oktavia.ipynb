{
 "cells": [
  {
   "cell_type": "markdown",
   "id": "60c9ea3b",
   "metadata": {},
   "source": [
    "# Final Project 3"
   ]
  },
  {
   "cell_type": "markdown",
   "id": "e72c6149",
   "metadata": {},
   "source": [
    "Nama            : Anindita Khusnul Oktavia <br>\n",
    "Program         : Introduction to Python for Data Science <br>\n",
    "Kode Peserta    : PYTN-KS02-006\n",
    "\n",
    "Anggota Kelompok:\n",
    "1. Anindita Khusnul Oktavia (PYTN-KS02-006)\n",
    "2. Farah Alysa Putri        (PYTN-KS02-001)"
   ]
  },
  {
   "cell_type": "markdown",
   "id": "5985880b",
   "metadata": {},
   "source": [
    "## Perkenalan"
   ]
  },
  {
   "cell_type": "markdown",
   "id": "c5195845",
   "metadata": {},
   "source": [
    "Objektif yang ingin dicapai dari final project 3 ini yaitu mengevaluasi konsep Ensemble sebagai berikut :\n",
    "- Mampu memahami konsep Classification dengan Ensemble Model\n",
    "- Mampu mempersiapkan data untuk digunakan dalam Ensemble Model\n",
    "- Mampu mengimplementasikan Ensemble Model untuk membuat prediksi\n",
    "\n",
    "Pada final project 3 ini akan dibuat prediksi keselamatan pasien dari penyakit jantung. Sehingga variabel DEATH_EVENT akan menjadi variabel dependen (variabel prediktor) dan beberapa variabel lainnya yang memiliki korelasi dengan variabel prediktor akan menjadi variabel independen.\n",
    "\n",
    "Penyakit kardiovaskular (CVD) adalah penyebab kematian nomor 1 secara global, diperkirakan merenggut 17,9 juta jiwa setiap tahun, yang menyumbang 31% dari semua kematian di seluruh dunia.\n",
    "Gagal jantung adalah peristiwa umum yang disebabkan oleh CVD dan dataset ini berisi 12 fitur yang dapat digunakan untuk memprediksi kematian akibat gagal jantung.\n",
    "\n",
    "Sebagian besar penyakit kardiovaskular dapat dicegah dengan mengatasi faktor risiko perilaku seperti penggunaan tembakau, diet tidak sehat dan obesitas, aktivitas fisik dan penggunaan alkohol yang berbahaya menggunakan strategi di seluruh populasi.\n",
    "\n",
    "Orang dengan penyakit kardiovaskular atau yang berisiko kardiovaskular tinggi (karena adanya satu atau lebih faktor risiko seperti hipertensi, diabetes, hiperlipidaemia atau penyakit yang sudah mapan) memerlukan deteksi dini dan manajemen di mana model machine learning dapat sangat membantu."
   ]
  },
  {
   "cell_type": "markdown",
   "id": "f2d3480a",
   "metadata": {},
   "source": [
    "# Import Pustaka"
   ]
  },
  {
   "cell_type": "code",
   "execution_count": 1,
   "id": "4acc034f",
   "metadata": {},
   "outputs": [],
   "source": [
    "import pandas as pd\n",
    "import numpy as np\n",
    "import matplotlib as mpl\n",
    "%matplotlib inline\n",
    "import matplotlib.pyplot as plt\n",
    "import seaborn as sns\n",
    "import joblib\n",
    "\n",
    "from sklearn.model_selection import train_test_split\n",
    "from sklearn.preprocessing import StandardScaler\n",
    "\n",
    "from sklearn.ensemble import RandomForestClassifier\n",
    "from sklearn.ensemble import BaggingClassifier\n",
    "from sklearn.ensemble import ExtraTreesClassifier\n",
    "from sklearn.ensemble import VotingClassifier\n",
    "from sklearn.linear_model import LogisticRegression\n",
    "from sklearn.svm import SVC\n",
    "from sklearn.naive_bayes import GaussianNB\n",
    "\n",
    "import xgboost\n",
    "from xgboost import XGBClassifier\n",
    "\n",
    "from sklearn.metrics import accuracy_score, classification_report\n",
    "from sklearn.metrics import confusion_matrix, plot_confusion_matrix\n",
    "\n",
    "import warnings\n",
    "warnings.filterwarnings(\"ignore\")"
   ]
  },
  {
   "cell_type": "code",
   "execution_count": 2,
   "id": "9d271724",
   "metadata": {},
   "outputs": [],
   "source": [
    "pd.set_option(\"display.max.columns\", None)"
   ]
  },
  {
   "cell_type": "code",
   "execution_count": 3,
   "id": "f3a1e57f",
   "metadata": {},
   "outputs": [],
   "source": [
    "random_state = 0"
   ]
  },
  {
   "cell_type": "markdown",
   "id": "cb0403ed",
   "metadata": {},
   "source": [
    "# Data Loading"
   ]
  },
  {
   "cell_type": "code",
   "execution_count": 4,
   "id": "2976433e",
   "metadata": {},
   "outputs": [
    {
     "data": {
      "text/html": [
       "<div>\n",
       "<style scoped>\n",
       "    .dataframe tbody tr th:only-of-type {\n",
       "        vertical-align: middle;\n",
       "    }\n",
       "\n",
       "    .dataframe tbody tr th {\n",
       "        vertical-align: top;\n",
       "    }\n",
       "\n",
       "    .dataframe thead th {\n",
       "        text-align: right;\n",
       "    }\n",
       "</style>\n",
       "<table border=\"1\" class=\"dataframe\">\n",
       "  <thead>\n",
       "    <tr style=\"text-align: right;\">\n",
       "      <th></th>\n",
       "      <th>age</th>\n",
       "      <th>anaemia</th>\n",
       "      <th>creatinine_phosphokinase</th>\n",
       "      <th>diabetes</th>\n",
       "      <th>ejection_fraction</th>\n",
       "      <th>high_blood_pressure</th>\n",
       "      <th>platelets</th>\n",
       "      <th>serum_creatinine</th>\n",
       "      <th>serum_sodium</th>\n",
       "      <th>sex</th>\n",
       "      <th>smoking</th>\n",
       "      <th>time</th>\n",
       "      <th>DEATH_EVENT</th>\n",
       "    </tr>\n",
       "  </thead>\n",
       "  <tbody>\n",
       "    <tr>\n",
       "      <th>0</th>\n",
       "      <td>75.0</td>\n",
       "      <td>0</td>\n",
       "      <td>582</td>\n",
       "      <td>0</td>\n",
       "      <td>20</td>\n",
       "      <td>1</td>\n",
       "      <td>265000.00</td>\n",
       "      <td>1.9</td>\n",
       "      <td>130</td>\n",
       "      <td>1</td>\n",
       "      <td>0</td>\n",
       "      <td>4</td>\n",
       "      <td>1</td>\n",
       "    </tr>\n",
       "    <tr>\n",
       "      <th>1</th>\n",
       "      <td>55.0</td>\n",
       "      <td>0</td>\n",
       "      <td>7861</td>\n",
       "      <td>0</td>\n",
       "      <td>38</td>\n",
       "      <td>0</td>\n",
       "      <td>263358.03</td>\n",
       "      <td>1.1</td>\n",
       "      <td>136</td>\n",
       "      <td>1</td>\n",
       "      <td>0</td>\n",
       "      <td>6</td>\n",
       "      <td>1</td>\n",
       "    </tr>\n",
       "    <tr>\n",
       "      <th>2</th>\n",
       "      <td>65.0</td>\n",
       "      <td>0</td>\n",
       "      <td>146</td>\n",
       "      <td>0</td>\n",
       "      <td>20</td>\n",
       "      <td>0</td>\n",
       "      <td>162000.00</td>\n",
       "      <td>1.3</td>\n",
       "      <td>129</td>\n",
       "      <td>1</td>\n",
       "      <td>1</td>\n",
       "      <td>7</td>\n",
       "      <td>1</td>\n",
       "    </tr>\n",
       "    <tr>\n",
       "      <th>3</th>\n",
       "      <td>50.0</td>\n",
       "      <td>1</td>\n",
       "      <td>111</td>\n",
       "      <td>0</td>\n",
       "      <td>20</td>\n",
       "      <td>0</td>\n",
       "      <td>210000.00</td>\n",
       "      <td>1.9</td>\n",
       "      <td>137</td>\n",
       "      <td>1</td>\n",
       "      <td>0</td>\n",
       "      <td>7</td>\n",
       "      <td>1</td>\n",
       "    </tr>\n",
       "    <tr>\n",
       "      <th>4</th>\n",
       "      <td>65.0</td>\n",
       "      <td>1</td>\n",
       "      <td>160</td>\n",
       "      <td>1</td>\n",
       "      <td>20</td>\n",
       "      <td>0</td>\n",
       "      <td>327000.00</td>\n",
       "      <td>2.7</td>\n",
       "      <td>116</td>\n",
       "      <td>0</td>\n",
       "      <td>0</td>\n",
       "      <td>8</td>\n",
       "      <td>1</td>\n",
       "    </tr>\n",
       "  </tbody>\n",
       "</table>\n",
       "</div>"
      ],
      "text/plain": [
       "    age  anaemia  creatinine_phosphokinase  diabetes  ejection_fraction  \\\n",
       "0  75.0        0                       582         0                 20   \n",
       "1  55.0        0                      7861         0                 38   \n",
       "2  65.0        0                       146         0                 20   \n",
       "3  50.0        1                       111         0                 20   \n",
       "4  65.0        1                       160         1                 20   \n",
       "\n",
       "   high_blood_pressure  platelets  serum_creatinine  serum_sodium  sex  \\\n",
       "0                    1  265000.00               1.9           130    1   \n",
       "1                    0  263358.03               1.1           136    1   \n",
       "2                    0  162000.00               1.3           129    1   \n",
       "3                    0  210000.00               1.9           137    1   \n",
       "4                    0  327000.00               2.7           116    0   \n",
       "\n",
       "   smoking  time  DEATH_EVENT  \n",
       "0        0     4            1  \n",
       "1        0     6            1  \n",
       "2        1     7            1  \n",
       "3        0     7            1  \n",
       "4        0     8            1  "
      ]
     },
     "execution_count": 4,
     "metadata": {},
     "output_type": "execute_result"
    }
   ],
   "source": [
    "df = pd.read_csv(\"heart_failure_clinical_records_dataset.csv\")\n",
    "df.head()"
   ]
  },
  {
   "cell_type": "markdown",
   "id": "69721d6a",
   "metadata": {},
   "source": [
    "Dataset yang digunakan yaitu **Heart Failure Prediction** yang berisi record data pasien yang mengalami gagal jantung. Dataset ini terdiri dari 13 atribut dan 299 data. Dataset diperoleh dari kaggle dengan link sebagai berikut https://www.kaggle.com/andrewmvd/heart-failure-clinical-data\n",
    "\n",
    "Atribut dalam dataset ini antara lain :\n",
    "1. age - umur pasien\n",
    "2. anaemia - apakah ada pengurangan haemoglobin\n",
    "3. creatinine_phosphokinase - level enzim CPK dalam mcg/L\n",
    "4. diabetes - apakah pasien punya riwayat diabetes (0 = non-diabetes, 1 = diabetes)\n",
    "5. ejection_fraction - persentase darah yang meninggalkan jantung dalam persentasi di setiap kontraksi jantung\n",
    "6. high_blood_pressure - apakah pasien punya darah tinggi\n",
    "7. platelets - jumlah platelet di darah dalam kiloplatelets/mL\n",
    "8. serum_creatinine - level serum creatinine di darah dalam mg/dL\n",
    "9. serum_sodium - level serum sodium di darah dalam mEq/L\n",
    "10. sex - apakah pasien pria atau wanita\n",
    "11. smoking - apakah pasien merokok\n",
    "12. time - waktu dalam hari untuk follow-up\n",
    "13. DEATH_EVENT - apakah pasien sudah meninggal saat waktu follow-up (0 = live, 1 = dead)"
   ]
  },
  {
   "cell_type": "markdown",
   "id": "80b88f7d",
   "metadata": {},
   "source": [
    "# Data Cleaning & EDA"
   ]
  },
  {
   "cell_type": "code",
   "execution_count": 5,
   "id": "8297fbe8",
   "metadata": {},
   "outputs": [
    {
     "data": {
      "text/plain": [
       "(299, 13)"
      ]
     },
     "execution_count": 5,
     "metadata": {},
     "output_type": "execute_result"
    }
   ],
   "source": [
    "# Print the dimension of data set\n",
    "df.shape"
   ]
  },
  {
   "cell_type": "code",
   "execution_count": 6,
   "id": "bfc1aac9",
   "metadata": {},
   "outputs": [
    {
     "data": {
      "text/plain": [
       "Index(['age', 'anaemia', 'creatinine_phosphokinase', 'diabetes',\n",
       "       'ejection_fraction', 'high_blood_pressure', 'platelets',\n",
       "       'serum_creatinine', 'serum_sodium', 'sex', 'smoking', 'time',\n",
       "       'DEATH_EVENT'],\n",
       "      dtype='object')"
      ]
     },
     "execution_count": 6,
     "metadata": {},
     "output_type": "execute_result"
    }
   ],
   "source": [
    "df.columns"
   ]
  },
  {
   "cell_type": "markdown",
   "id": "189e72b5",
   "metadata": {},
   "source": [
    "## Cek data types"
   ]
  },
  {
   "cell_type": "code",
   "execution_count": 7,
   "id": "0912f515",
   "metadata": {},
   "outputs": [
    {
     "name": "stdout",
     "output_type": "stream",
     "text": [
      "<class 'pandas.core.frame.DataFrame'>\n",
      "RangeIndex: 299 entries, 0 to 298\n",
      "Data columns (total 13 columns):\n",
      " #   Column                    Non-Null Count  Dtype  \n",
      "---  ------                    --------------  -----  \n",
      " 0   age                       299 non-null    float64\n",
      " 1   anaemia                   299 non-null    int64  \n",
      " 2   creatinine_phosphokinase  299 non-null    int64  \n",
      " 3   diabetes                  299 non-null    int64  \n",
      " 4   ejection_fraction         299 non-null    int64  \n",
      " 5   high_blood_pressure       299 non-null    int64  \n",
      " 6   platelets                 299 non-null    float64\n",
      " 7   serum_creatinine          299 non-null    float64\n",
      " 8   serum_sodium              299 non-null    int64  \n",
      " 9   sex                       299 non-null    int64  \n",
      " 10  smoking                   299 non-null    int64  \n",
      " 11  time                      299 non-null    int64  \n",
      " 12  DEATH_EVENT               299 non-null    int64  \n",
      "dtypes: float64(3), int64(10)\n",
      "memory usage: 30.5 KB\n"
     ]
    }
   ],
   "source": [
    "#Melihat tipe objek masing-masing kolom\n",
    "df.info()"
   ]
  },
  {
   "cell_type": "markdown",
   "id": "f270baa9",
   "metadata": {},
   "source": [
    "## Describing dataset"
   ]
  },
  {
   "cell_type": "code",
   "execution_count": 8,
   "id": "7bed1a42",
   "metadata": {},
   "outputs": [
    {
     "data": {
      "text/html": [
       "<div>\n",
       "<style scoped>\n",
       "    .dataframe tbody tr th:only-of-type {\n",
       "        vertical-align: middle;\n",
       "    }\n",
       "\n",
       "    .dataframe tbody tr th {\n",
       "        vertical-align: top;\n",
       "    }\n",
       "\n",
       "    .dataframe thead th {\n",
       "        text-align: right;\n",
       "    }\n",
       "</style>\n",
       "<table border=\"1\" class=\"dataframe\">\n",
       "  <thead>\n",
       "    <tr style=\"text-align: right;\">\n",
       "      <th></th>\n",
       "      <th>age</th>\n",
       "      <th>anaemia</th>\n",
       "      <th>creatinine_phosphokinase</th>\n",
       "      <th>diabetes</th>\n",
       "      <th>ejection_fraction</th>\n",
       "      <th>high_blood_pressure</th>\n",
       "      <th>platelets</th>\n",
       "      <th>serum_creatinine</th>\n",
       "      <th>serum_sodium</th>\n",
       "      <th>sex</th>\n",
       "      <th>smoking</th>\n",
       "      <th>time</th>\n",
       "      <th>DEATH_EVENT</th>\n",
       "    </tr>\n",
       "  </thead>\n",
       "  <tbody>\n",
       "    <tr>\n",
       "      <th>count</th>\n",
       "      <td>299.000000</td>\n",
       "      <td>299.000000</td>\n",
       "      <td>299.000000</td>\n",
       "      <td>299.000000</td>\n",
       "      <td>299.000000</td>\n",
       "      <td>299.000000</td>\n",
       "      <td>299.000000</td>\n",
       "      <td>299.00000</td>\n",
       "      <td>299.000000</td>\n",
       "      <td>299.000000</td>\n",
       "      <td>299.00000</td>\n",
       "      <td>299.000000</td>\n",
       "      <td>299.00000</td>\n",
       "    </tr>\n",
       "    <tr>\n",
       "      <th>mean</th>\n",
       "      <td>60.833893</td>\n",
       "      <td>0.431438</td>\n",
       "      <td>581.839465</td>\n",
       "      <td>0.418060</td>\n",
       "      <td>38.083612</td>\n",
       "      <td>0.351171</td>\n",
       "      <td>263358.029264</td>\n",
       "      <td>1.39388</td>\n",
       "      <td>136.625418</td>\n",
       "      <td>0.648829</td>\n",
       "      <td>0.32107</td>\n",
       "      <td>130.260870</td>\n",
       "      <td>0.32107</td>\n",
       "    </tr>\n",
       "    <tr>\n",
       "      <th>std</th>\n",
       "      <td>11.894809</td>\n",
       "      <td>0.496107</td>\n",
       "      <td>970.287881</td>\n",
       "      <td>0.494067</td>\n",
       "      <td>11.834841</td>\n",
       "      <td>0.478136</td>\n",
       "      <td>97804.236869</td>\n",
       "      <td>1.03451</td>\n",
       "      <td>4.412477</td>\n",
       "      <td>0.478136</td>\n",
       "      <td>0.46767</td>\n",
       "      <td>77.614208</td>\n",
       "      <td>0.46767</td>\n",
       "    </tr>\n",
       "    <tr>\n",
       "      <th>min</th>\n",
       "      <td>40.000000</td>\n",
       "      <td>0.000000</td>\n",
       "      <td>23.000000</td>\n",
       "      <td>0.000000</td>\n",
       "      <td>14.000000</td>\n",
       "      <td>0.000000</td>\n",
       "      <td>25100.000000</td>\n",
       "      <td>0.50000</td>\n",
       "      <td>113.000000</td>\n",
       "      <td>0.000000</td>\n",
       "      <td>0.00000</td>\n",
       "      <td>4.000000</td>\n",
       "      <td>0.00000</td>\n",
       "    </tr>\n",
       "    <tr>\n",
       "      <th>25%</th>\n",
       "      <td>51.000000</td>\n",
       "      <td>0.000000</td>\n",
       "      <td>116.500000</td>\n",
       "      <td>0.000000</td>\n",
       "      <td>30.000000</td>\n",
       "      <td>0.000000</td>\n",
       "      <td>212500.000000</td>\n",
       "      <td>0.90000</td>\n",
       "      <td>134.000000</td>\n",
       "      <td>0.000000</td>\n",
       "      <td>0.00000</td>\n",
       "      <td>73.000000</td>\n",
       "      <td>0.00000</td>\n",
       "    </tr>\n",
       "    <tr>\n",
       "      <th>50%</th>\n",
       "      <td>60.000000</td>\n",
       "      <td>0.000000</td>\n",
       "      <td>250.000000</td>\n",
       "      <td>0.000000</td>\n",
       "      <td>38.000000</td>\n",
       "      <td>0.000000</td>\n",
       "      <td>262000.000000</td>\n",
       "      <td>1.10000</td>\n",
       "      <td>137.000000</td>\n",
       "      <td>1.000000</td>\n",
       "      <td>0.00000</td>\n",
       "      <td>115.000000</td>\n",
       "      <td>0.00000</td>\n",
       "    </tr>\n",
       "    <tr>\n",
       "      <th>75%</th>\n",
       "      <td>70.000000</td>\n",
       "      <td>1.000000</td>\n",
       "      <td>582.000000</td>\n",
       "      <td>1.000000</td>\n",
       "      <td>45.000000</td>\n",
       "      <td>1.000000</td>\n",
       "      <td>303500.000000</td>\n",
       "      <td>1.40000</td>\n",
       "      <td>140.000000</td>\n",
       "      <td>1.000000</td>\n",
       "      <td>1.00000</td>\n",
       "      <td>203.000000</td>\n",
       "      <td>1.00000</td>\n",
       "    </tr>\n",
       "    <tr>\n",
       "      <th>max</th>\n",
       "      <td>95.000000</td>\n",
       "      <td>1.000000</td>\n",
       "      <td>7861.000000</td>\n",
       "      <td>1.000000</td>\n",
       "      <td>80.000000</td>\n",
       "      <td>1.000000</td>\n",
       "      <td>850000.000000</td>\n",
       "      <td>9.40000</td>\n",
       "      <td>148.000000</td>\n",
       "      <td>1.000000</td>\n",
       "      <td>1.00000</td>\n",
       "      <td>285.000000</td>\n",
       "      <td>1.00000</td>\n",
       "    </tr>\n",
       "  </tbody>\n",
       "</table>\n",
       "</div>"
      ],
      "text/plain": [
       "              age     anaemia  creatinine_phosphokinase    diabetes  \\\n",
       "count  299.000000  299.000000                299.000000  299.000000   \n",
       "mean    60.833893    0.431438                581.839465    0.418060   \n",
       "std     11.894809    0.496107                970.287881    0.494067   \n",
       "min     40.000000    0.000000                 23.000000    0.000000   \n",
       "25%     51.000000    0.000000                116.500000    0.000000   \n",
       "50%     60.000000    0.000000                250.000000    0.000000   \n",
       "75%     70.000000    1.000000                582.000000    1.000000   \n",
       "max     95.000000    1.000000               7861.000000    1.000000   \n",
       "\n",
       "       ejection_fraction  high_blood_pressure      platelets  \\\n",
       "count         299.000000           299.000000     299.000000   \n",
       "mean           38.083612             0.351171  263358.029264   \n",
       "std            11.834841             0.478136   97804.236869   \n",
       "min            14.000000             0.000000   25100.000000   \n",
       "25%            30.000000             0.000000  212500.000000   \n",
       "50%            38.000000             0.000000  262000.000000   \n",
       "75%            45.000000             1.000000  303500.000000   \n",
       "max            80.000000             1.000000  850000.000000   \n",
       "\n",
       "       serum_creatinine  serum_sodium         sex    smoking        time  \\\n",
       "count         299.00000    299.000000  299.000000  299.00000  299.000000   \n",
       "mean            1.39388    136.625418    0.648829    0.32107  130.260870   \n",
       "std             1.03451      4.412477    0.478136    0.46767   77.614208   \n",
       "min             0.50000    113.000000    0.000000    0.00000    4.000000   \n",
       "25%             0.90000    134.000000    0.000000    0.00000   73.000000   \n",
       "50%             1.10000    137.000000    1.000000    0.00000  115.000000   \n",
       "75%             1.40000    140.000000    1.000000    1.00000  203.000000   \n",
       "max             9.40000    148.000000    1.000000    1.00000  285.000000   \n",
       "\n",
       "       DEATH_EVENT  \n",
       "count    299.00000  \n",
       "mean       0.32107  \n",
       "std        0.46767  \n",
       "min        0.00000  \n",
       "25%        0.00000  \n",
       "50%        0.00000  \n",
       "75%        1.00000  \n",
       "max        1.00000  "
      ]
     },
     "execution_count": 8,
     "metadata": {},
     "output_type": "execute_result"
    }
   ],
   "source": [
    "# melihat statistik dari dataset\n",
    "df.describe()"
   ]
  },
  {
   "cell_type": "markdown",
   "id": "7676d8f4",
   "metadata": {},
   "source": [
    "## Cek missing value"
   ]
  },
  {
   "cell_type": "code",
   "execution_count": 9,
   "id": "c450da2f",
   "metadata": {
    "scrolled": true
   },
   "outputs": [
    {
     "data": {
      "text/plain": [
       "age                         0\n",
       "anaemia                     0\n",
       "creatinine_phosphokinase    0\n",
       "diabetes                    0\n",
       "ejection_fraction           0\n",
       "high_blood_pressure         0\n",
       "platelets                   0\n",
       "serum_creatinine            0\n",
       "serum_sodium                0\n",
       "sex                         0\n",
       "smoking                     0\n",
       "time                        0\n",
       "DEATH_EVENT                 0\n",
       "dtype: int64"
      ]
     },
     "execution_count": 9,
     "metadata": {},
     "output_type": "execute_result"
    }
   ],
   "source": [
    "df.isnull().sum()"
   ]
  },
  {
   "cell_type": "markdown",
   "id": "e4d70afd",
   "metadata": {},
   "source": [
    "Dapat dilihat bahwa semua variabel menunjukkan nilai '0' artinya tidak terdapat missing value pada dataset."
   ]
  },
  {
   "cell_type": "markdown",
   "id": "6ce24854",
   "metadata": {},
   "source": [
    "## Exploratory Data Analysis"
   ]
  },
  {
   "cell_type": "code",
   "execution_count": 10,
   "id": "b7f9bafd",
   "metadata": {},
   "outputs": [
    {
     "data": {
      "text/plain": [
       "array([[<AxesSubplot:title={'center':'age'}>,\n",
       "        <AxesSubplot:title={'center':'anaemia'}>,\n",
       "        <AxesSubplot:title={'center':'creatinine_phosphokinase'}>,\n",
       "        <AxesSubplot:title={'center':'diabetes'}>],\n",
       "       [<AxesSubplot:title={'center':'ejection_fraction'}>,\n",
       "        <AxesSubplot:title={'center':'high_blood_pressure'}>,\n",
       "        <AxesSubplot:title={'center':'platelets'}>,\n",
       "        <AxesSubplot:title={'center':'serum_creatinine'}>],\n",
       "       [<AxesSubplot:title={'center':'serum_sodium'}>,\n",
       "        <AxesSubplot:title={'center':'sex'}>,\n",
       "        <AxesSubplot:title={'center':'smoking'}>,\n",
       "        <AxesSubplot:title={'center':'time'}>],\n",
       "       [<AxesSubplot:title={'center':'DEATH_EVENT'}>, <AxesSubplot:>,\n",
       "        <AxesSubplot:>, <AxesSubplot:>]], dtype=object)"
      ]
     },
     "execution_count": 10,
     "metadata": {},
     "output_type": "execute_result"
    },
    {
     "data": {
      "image/png": "[encoded data removed]",
      "text/plain": [
       "<Figure size 1080x720 with 16 Axes>"
      ]
     },
     "metadata": {
      "needs_background": "light"
     },
     "output_type": "display_data"
    }
   ],
   "source": [
    "# melihat bentuk histogram dari semua variabel\n",
    "df.hist(figsize=(15,10))"
   ]
  },
  {
   "cell_type": "code",
   "execution_count": 11,
   "id": "9e726dee",
   "metadata": {},
   "outputs": [
    {
     "name": "stdout",
     "output_type": "stream",
     "text": [
      "Total number of Living case: 203\n",
      "Total number of Death case: 96\n"
     ]
    },
    {
     "data": {
      "image/png": "[encoded data removed]",
      "text/plain": [
       "<Figure size 432x288 with 1 Axes>"
      ]
     },
     "metadata": {},
     "output_type": "display_data"
    }
   ],
   "source": [
    "# melihat distribusi kelas death_event\n",
    "\n",
    "len_live = len(df['DEATH_EVENT'][df['DEATH_EVENT'] == 0])\n",
    "len_death = len(df['DEATH_EVENT'][df['DEATH_EVENT'] == 1])\n",
    "\n",
    "arr = np.array([len_live, len_death])\n",
    "labels = ['LIVING','DIED']\n",
    "\n",
    "print(f'Total number of Living case: {len_live}')\n",
    "print(f'Total number of Death case: {len_death}')\n",
    "\n",
    "plt.pie(arr, labels = labels, explode=[0.2,0.0], shadow = True, autopct='%1.1f%%')\n",
    "plt.show()"
   ]
  },
  {
   "cell_type": "markdown",
   "id": "3b1388ec",
   "metadata": {},
   "source": [
    "Dari pie chart di atas menunjukkan bahwa terdapat 67.9% atau sebanyak 203 pasien yang selamat dan 32.1% atau sebanyak 96 pasien yang meninggal karena penyakit jantung kardiovaskular."
   ]
  },
  {
   "cell_type": "code",
   "execution_count": 12,
   "id": "ce28f75f",
   "metadata": {},
   "outputs": [
    {
     "data": {
      "text/plain": [
       "<AxesSubplot:xlabel='age', ylabel='Density'>"
      ]
     },
     "execution_count": 12,
     "metadata": {},
     "output_type": "execute_result"
    },
    {
     "data": {
      "image/png": "[encoded data removed]",
      "text/plain": [
       "<Figure size 432x288 with 1 Axes>"
      ]
     },
     "metadata": {
      "needs_background": "light"
     },
     "output_type": "display_data"
    }
   ],
   "source": [
    "# melihat distribusi variabel 'age'\n",
    "\n",
    "sns.distplot(df['age'])"
   ]
  },
  {
   "cell_type": "markdown",
   "id": "19b3ae45",
   "metadata": {},
   "source": [
    "Dari histogram variabel di atas dapat dilihat persebaran umur pasien yaitu ada dari 40 hingga sekitar 95 tahun, dan frekuensi terbanyak yaitu pasien berusia 50 hingga 60 an."
   ]
  },
  {
   "cell_type": "code",
   "execution_count": 13,
   "id": "746b8a88",
   "metadata": {},
   "outputs": [
    {
     "name": "stdout",
     "output_type": "stream",
     "text": [
      "Total number of Died: 85\n",
      "Total number of Not Died: 167\n"
     ]
    },
    {
     "data": {
      "image/png": "[encoded data removed]",
      "text/plain": [
       "<Figure size 432x288 with 1 Axes>"
      ]
     },
     "metadata": {},
     "output_type": "display_data"
    }
   ],
   "source": [
    "# melihat distribusi pasien berusia > 50 tahun yang selamat dan meninggal \n",
    "\n",
    "age_above_50_not_died = df['DEATH_EVENT'][df.age >=50][df.DEATH_EVENT == 0]\n",
    "age_above_50_died = df['DEATH_EVENT'][df.age >= 50][df.DEATH_EVENT == 1]\n",
    "\n",
    "len_died = len(age_above_50_died)\n",
    "len_not_died = len(age_above_50_not_died)\n",
    "\n",
    "arr1 = np.array([len_died, len_not_died])\n",
    "labels =['DIED','NOT DIED']\n",
    "\n",
    "print(f'Total number of Died: {len_died}')\n",
    "print(f'Total number of Not Died: {len_not_died}')\n",
    "\n",
    "plt.pie(arr1, labels=labels, explode = [0.2, 0.0], shadow= True, autopct='%1.1f%%')\n",
    "plt.show()"
   ]
  },
  {
   "cell_type": "markdown",
   "id": "bee432fe",
   "metadata": {},
   "source": [
    "Dari pie chart data pasien berusa lebih dari 50 tahun di atas menunjukkan bahwa terdapat 66.3% atau sebanyak 167 pasien yang selamat dan 33.7% atau sebanyak 85 pasien yang meninggal karena penyakit jantung kardiovaskular."
   ]
  },
  {
   "cell_type": "code",
   "execution_count": 14,
   "id": "8b8e4e07",
   "metadata": {},
   "outputs": [
    {
     "name": "stdout",
     "output_type": "stream",
     "text": [
      "Total number of Died with diabetes: 40\n",
      "Total number of Not died with diabetes: 118\n"
     ]
    },
    {
     "data": {
      "image/png": "[encoded data removed]",
      "text/plain": [
       "<Figure size 432x288 with 1 Axes>"
      ]
     },
     "metadata": {},
     "output_type": "display_data"
    }
   ],
   "source": [
    "patient_nhave_diabetes_0 = df['DEATH_EVENT'][df.diabetes == 0][df.DEATH_EVENT ==0]\n",
    "patient_have_diabetes_1 = df['DEATH_EVENT'][df.diabetes == 1][df.DEATH_EVENT == 1]\n",
    "\n",
    "len_d_died = len(patient_have_diabetes_1)\n",
    "len_d_alive = len(patient_nhave_diabetes_0)\n",
    "\n",
    "arr2 = np.array([len_d_died, len_d_alive])\n",
    "labels = ['Died with diabetes', 'Not died with diabetes']\n",
    "\n",
    "print(f'Total number of Died with diabetes: {len_d_died}')\n",
    "print(f'Total number of Not died with diabetes: {len_d_alive}')\n",
    "\n",
    "plt.pie(arr2, labels=labels, explode = [0.2,0.0], shadow = True, autopct='%1.1f%%')\n",
    "plt.show()"
   ]
  },
  {
   "cell_type": "markdown",
   "id": "34ae851e",
   "metadata": {},
   "source": [
    "Dari pie chart data pasien yang memiliki diabetes menunjukkan bahwa terdapat 74.7% atau 118 pasien dapat selamat dari penyakit jantung kardiovaskuler dan 25.3% atau sebanyak 40 pasien yang meninggal."
   ]
  },
  {
   "cell_type": "markdown",
   "id": "5341419f",
   "metadata": {},
   "source": [
    "### checking correlation between variables\n",
    "- -1 = terdapat korelasi negatif antara dua variabel\n",
    "- 0 = tidak terdapat korelasi negatif antara dua variabel\n",
    "- 1 = terdapat korelasi positif antara dua variabel"
   ]
  },
  {
   "cell_type": "code",
   "execution_count": 15,
   "id": "85101145",
   "metadata": {},
   "outputs": [
    {
     "data": {
      "text/plain": [
       "<AxesSubplot:>"
      ]
     },
     "execution_count": 15,
     "metadata": {},
     "output_type": "execute_result"
    },
    {
     "data": {
      "image/png": "[encoded data removed]",
      "text/plain": [
       "<Figure size 1080x720 with 2 Axes>"
      ]
     },
     "metadata": {
      "needs_background": "light"
     },
     "output_type": "display_data"
    }
   ],
   "source": [
    "# melihat korelasi antar variabel dengan heatmap\n",
    "\n",
    "corr = df.corr()\n",
    "plt.subplots(figsize=(15,10))\n",
    "sns.heatmap(corr, annot=True)"
   ]
  },
  {
   "cell_type": "code",
   "execution_count": 16,
   "id": "5f2e3be8",
   "metadata": {},
   "outputs": [
    {
     "data": {
      "text/html": [
       "<style type=\"text/css\">\n",
       "#T_4ca6a_row0_col0, #T_4ca6a_row1_col1, #T_4ca6a_row2_col2, #T_4ca6a_row3_col3, #T_4ca6a_row4_col4, #T_4ca6a_row5_col5, #T_4ca6a_row6_col6, #T_4ca6a_row7_col7, #T_4ca6a_row8_col8, #T_4ca6a_row9_col9, #T_4ca6a_row10_col10, #T_4ca6a_row11_col11, #T_4ca6a_row12_col12 {\n",
       "  background-color: #b40426;\n",
       "  color: #f1f1f1;\n",
       "}\n",
       "#T_4ca6a_row0_col1, #T_4ca6a_row4_col0, #T_4ca6a_row5_col4, #T_4ca6a_row12_col5 {\n",
       "  background-color: #86a9fc;\n",
       "  color: #f1f1f1;\n",
       "}\n",
       "#T_4ca6a_row0_col2 {\n",
       "  background-color: #5673e0;\n",
       "  color: #f1f1f1;\n",
       "}\n",
       "#T_4ca6a_row0_col3 {\n",
       "  background-color: #4961d2;\n",
       "  color: #f1f1f1;\n",
       "}\n",
       "#T_4ca6a_row0_col4, #T_4ca6a_row5_col0 {\n",
       "  background-color: #90b2fe;\n",
       "  color: #000000;\n",
       "}\n",
       "#T_4ca6a_row0_col5 {\n",
       "  background-color: #89acfd;\n",
       "  color: #000000;\n",
       "}\n",
       "#T_4ca6a_row0_col6 {\n",
       "  background-color: #4e68d8;\n",
       "  color: #f1f1f1;\n",
       "}\n",
       "#T_4ca6a_row0_col7 {\n",
       "  background-color: #9bbcff;\n",
       "  color: #000000;\n",
       "}\n",
       "#T_4ca6a_row0_col8, #T_4ca6a_row4_col2, #T_4ca6a_row6_col1, #T_4ca6a_row6_col7, #T_4ca6a_row11_col9 {\n",
       "  background-color: #6180e9;\n",
       "  color: #f1f1f1;\n",
       "}\n",
       "#T_4ca6a_row0_col9, #T_4ca6a_row3_col6, #T_4ca6a_row5_col1, #T_4ca6a_row5_col8, #T_4ca6a_row8_col5 {\n",
       "  background-color: #799cf8;\n",
       "  color: #f1f1f1;\n",
       "}\n",
       "#T_4ca6a_row0_col10, #T_4ca6a_row2_col7, #T_4ca6a_row7_col2, #T_4ca6a_row8_col0 {\n",
       "  background-color: #688aef;\n",
       "  color: #f1f1f1;\n",
       "}\n",
       "#T_4ca6a_row0_col11, #T_4ca6a_row1_col5, #T_4ca6a_row1_col8, #T_4ca6a_row8_col1, #T_4ca6a_row10_col0 {\n",
       "  background-color: #7a9df8;\n",
       "  color: #f1f1f1;\n",
       "}\n",
       "#T_4ca6a_row0_col12 {\n",
       "  background-color: #dfdbd9;\n",
       "  color: #000000;\n",
       "}\n",
       "#T_4ca6a_row1_col0 {\n",
       "  background-color: #8fb1fe;\n",
       "  color: #000000;\n",
       "}\n",
       "#T_4ca6a_row1_col2, #T_4ca6a_row2_col1, #T_4ca6a_row3_col9, #T_4ca6a_row3_col10, #T_4ca6a_row8_col7, #T_4ca6a_row9_col3, #T_4ca6a_row9_col6, #T_4ca6a_row11_col0, #T_4ca6a_row11_col5, #T_4ca6a_row11_col12, #T_4ca6a_row12_col4, #T_4ca6a_row12_col8, #T_4ca6a_row12_col11 {\n",
       "  background-color: #3b4cc0;\n",
       "  color: #f1f1f1;\n",
       "}\n",
       "#T_4ca6a_row1_col3, #T_4ca6a_row2_col3, #T_4ca6a_row5_col3 {\n",
       "  background-color: #6282ea;\n",
       "  color: #f1f1f1;\n",
       "}\n",
       "#T_4ca6a_row1_col4, #T_4ca6a_row9_col0, #T_4ca6a_row11_col8 {\n",
       "  background-color: #88abfd;\n",
       "  color: #000000;\n",
       "}\n",
       "#T_4ca6a_row1_col6 {\n",
       "  background-color: #506bda;\n",
       "  color: #f1f1f1;\n",
       "}\n",
       "#T_4ca6a_row1_col7, #T_4ca6a_row7_col4 {\n",
       "  background-color: #7b9ff9;\n",
       "  color: #f1f1f1;\n",
       "}\n",
       "#T_4ca6a_row1_col9 {\n",
       "  background-color: #4a63d3;\n",
       "  color: #f1f1f1;\n",
       "}\n",
       "#T_4ca6a_row1_col10, #T_4ca6a_row11_col7 {\n",
       "  background-color: #445acc;\n",
       "  color: #f1f1f1;\n",
       "}\n",
       "#T_4ca6a_row1_col11 {\n",
       "  background-color: #8db0fe;\n",
       "  color: #000000;\n",
       "}\n",
       "#T_4ca6a_row1_col12, #T_4ca6a_row12_col0 {\n",
       "  background-color: #bcd2f7;\n",
       "  color: #000000;\n",
       "}\n",
       "#T_4ca6a_row2_col0 {\n",
       "  background-color: #5e7de7;\n",
       "  color: #f1f1f1;\n",
       "}\n",
       "#T_4ca6a_row2_col4 {\n",
       "  background-color: #7396f5;\n",
       "  color: #f1f1f1;\n",
       "}\n",
       "#T_4ca6a_row2_col5, #T_4ca6a_row7_col10 {\n",
       "  background-color: #5a78e4;\n",
       "  color: #f1f1f1;\n",
       "}\n",
       "#T_4ca6a_row2_col6, #T_4ca6a_row10_col6, #T_4ca6a_row10_col7, #T_4ca6a_row12_col3 {\n",
       "  background-color: #6485ec;\n",
       "  color: #f1f1f1;\n",
       "}\n",
       "#T_4ca6a_row2_col8, #T_4ca6a_row12_col2 {\n",
       "  background-color: #80a3fa;\n",
       "  color: #f1f1f1;\n",
       "}\n",
       "#T_4ca6a_row2_col9, #T_4ca6a_row6_col5, #T_4ca6a_row7_col1 {\n",
       "  background-color: #7da0f9;\n",
       "  color: #f1f1f1;\n",
       "}\n",
       "#T_4ca6a_row2_col10, #T_4ca6a_row4_col3, #T_4ca6a_row8_col10, #T_4ca6a_row12_col9 {\n",
       "  background-color: #6384eb;\n",
       "  color: #f1f1f1;\n",
       "}\n",
       "#T_4ca6a_row2_col11, #T_4ca6a_row10_col12 {\n",
       "  background-color: #abc8fd;\n",
       "  color: #000000;\n",
       "}\n",
       "#T_4ca6a_row2_col12 {\n",
       "  background-color: #bbd1f8;\n",
       "  color: #000000;\n",
       "}\n",
       "#T_4ca6a_row3_col0, #T_4ca6a_row5_col2 {\n",
       "  background-color: #5977e3;\n",
       "  color: #f1f1f1;\n",
       "}\n",
       "#T_4ca6a_row3_col1, #T_4ca6a_row3_col2, #T_4ca6a_row4_col7, #T_4ca6a_row11_col2 {\n",
       "  background-color: #6a8bef;\n",
       "  color: #f1f1f1;\n",
       "}\n",
       "#T_4ca6a_row3_col4, #T_4ca6a_row8_col2 {\n",
       "  background-color: #7ea1fa;\n",
       "  color: #f1f1f1;\n",
       "}\n",
       "#T_4ca6a_row3_col5, #T_4ca6a_row5_col6, #T_4ca6a_row5_col7, #T_4ca6a_row6_col10 {\n",
       "  background-color: #6b8df0;\n",
       "  color: #f1f1f1;\n",
       "}\n",
       "#T_4ca6a_row3_col7, #T_4ca6a_row10_col5, #T_4ca6a_row11_col6, #T_4ca6a_row12_col10 {\n",
       "  background-color: #5f7fe8;\n",
       "  color: #f1f1f1;\n",
       "}\n",
       "#T_4ca6a_row3_col8 {\n",
       "  background-color: #5572df;\n",
       "  color: #f1f1f1;\n",
       "}\n",
       "#T_4ca6a_row3_col11 {\n",
       "  background-color: #b6cefa;\n",
       "  color: #000000;\n",
       "}\n",
       "#T_4ca6a_row3_col12 {\n",
       "  background-color: #aec9fc;\n",
       "  color: #000000;\n",
       "}\n",
       "#T_4ca6a_row4_col1, #T_4ca6a_row4_col5 {\n",
       "  background-color: #7699f6;\n",
       "  color: #f1f1f1;\n",
       "}\n",
       "#T_4ca6a_row4_col6 {\n",
       "  background-color: #7295f4;\n",
       "  color: #f1f1f1;\n",
       "}\n",
       "#T_4ca6a_row4_col8 {\n",
       "  background-color: #a2c1ff;\n",
       "  color: #000000;\n",
       "}\n",
       "#T_4ca6a_row4_col9, #T_4ca6a_row10_col3 {\n",
       "  background-color: #3d50c3;\n",
       "  color: #f1f1f1;\n",
       "}\n",
       "#T_4ca6a_row4_col10, #T_4ca6a_row10_col1, #T_4ca6a_row12_col6 {\n",
       "  background-color: #4f69d9;\n",
       "  color: #f1f1f1;\n",
       "}\n",
       "#T_4ca6a_row4_col11 {\n",
       "  background-color: #b7cff9;\n",
       "  color: #000000;\n",
       "}\n",
       "#T_4ca6a_row4_col12 {\n",
       "  background-color: #7093f3;\n",
       "  color: #f1f1f1;\n",
       "}\n",
       "#T_4ca6a_row5_col9 {\n",
       "  background-color: #485fd1;\n",
       "  color: #f1f1f1;\n",
       "}\n",
       "#T_4ca6a_row5_col10, #T_4ca6a_row9_col1 {\n",
       "  background-color: #536edd;\n",
       "  color: #f1f1f1;\n",
       "}\n",
       "#T_4ca6a_row5_col11, #T_4ca6a_row6_col3, #T_4ca6a_row6_col8, #T_4ca6a_row8_col12, #T_4ca6a_row12_col1 {\n",
       "  background-color: #81a4fb;\n",
       "  color: #f1f1f1;\n",
       "}\n",
       "#T_4ca6a_row5_col12 {\n",
       "  background-color: #bfd3f6;\n",
       "  color: #000000;\n",
       "}\n",
       "#T_4ca6a_row6_col0, #T_4ca6a_row9_col8 {\n",
       "  background-color: #6687ed;\n",
       "  color: #f1f1f1;\n",
       "}\n",
       "#T_4ca6a_row6_col2 {\n",
       "  background-color: #7597f6;\n",
       "  color: #f1f1f1;\n",
       "}\n",
       "#T_4ca6a_row6_col4 {\n",
       "  background-color: #93b5fe;\n",
       "  color: #000000;\n",
       "}\n",
       "#T_4ca6a_row6_col9 {\n",
       "  background-color: #4358cb;\n",
       "  color: #f1f1f1;\n",
       "}\n",
       "#T_4ca6a_row6_col11 {\n",
       "  background-color: #b1cbfc;\n",
       "  color: #000000;\n",
       "}\n",
       "#T_4ca6a_row6_col12, #T_4ca6a_row7_col0 {\n",
       "  background-color: #a3c2fe;\n",
       "  color: #000000;\n",
       "}\n",
       "#T_4ca6a_row7_col3, #T_4ca6a_row9_col4 {\n",
       "  background-color: #5875e1;\n",
       "  color: #f1f1f1;\n",
       "}\n",
       "#T_4ca6a_row7_col5, #T_4ca6a_row10_col4 {\n",
       "  background-color: #6c8ff1;\n",
       "  color: #f1f1f1;\n",
       "}\n",
       "#T_4ca6a_row7_col6, #T_4ca6a_row9_col5 {\n",
       "  background-color: #516ddb;\n",
       "  color: #f1f1f1;\n",
       "}\n",
       "#T_4ca6a_row7_col8 {\n",
       "  background-color: #3c4ec2;\n",
       "  color: #f1f1f1;\n",
       "}\n",
       "#T_4ca6a_row7_col9 {\n",
       "  background-color: #6788ee;\n",
       "  color: #f1f1f1;\n",
       "}\n",
       "#T_4ca6a_row7_col11 {\n",
       "  background-color: #8caffe;\n",
       "  color: #000000;\n",
       "}\n",
       "#T_4ca6a_row7_col12 {\n",
       "  background-color: #e6d7cf;\n",
       "  color: #000000;\n",
       "}\n",
       "#T_4ca6a_row8_col3 {\n",
       "  background-color: #4c66d6;\n",
       "  color: #f1f1f1;\n",
       "}\n",
       "#T_4ca6a_row8_col4 {\n",
       "  background-color: #afcafc;\n",
       "  color: #000000;\n",
       "}\n",
       "#T_4ca6a_row8_col6, #T_4ca6a_row9_col7, #T_4ca6a_row10_col8, #T_4ca6a_row11_col3 {\n",
       "  background-color: #6f92f3;\n",
       "  color: #f1f1f1;\n",
       "}\n",
       "#T_4ca6a_row8_col9 {\n",
       "  background-color: #5d7ce6;\n",
       "  color: #f1f1f1;\n",
       "}\n",
       "#T_4ca6a_row8_col11 {\n",
       "  background-color: #c1d4f4;\n",
       "  color: #000000;\n",
       "}\n",
       "#T_4ca6a_row9_col2 {\n",
       "  background-color: #85a8fc;\n",
       "  color: #f1f1f1;\n",
       "}\n",
       "#T_4ca6a_row9_col10 {\n",
       "  background-color: #e1dad6;\n",
       "  color: #000000;\n",
       "}\n",
       "#T_4ca6a_row9_col11 {\n",
       "  background-color: #aac7fd;\n",
       "  color: #000000;\n",
       "}\n",
       "#T_4ca6a_row9_col12 {\n",
       "  background-color: #adc9fd;\n",
       "  color: #000000;\n",
       "}\n",
       "#T_4ca6a_row10_col2 {\n",
       "  background-color: #6e90f2;\n",
       "  color: #f1f1f1;\n",
       "}\n",
       "#T_4ca6a_row10_col9 {\n",
       "  background-color: #e2dad5;\n",
       "  color: #000000;\n",
       "}\n",
       "#T_4ca6a_row10_col11 {\n",
       "  background-color: #a9c6fd;\n",
       "  color: #000000;\n",
       "}\n",
       "#T_4ca6a_row11_col1 {\n",
       "  background-color: #465ecf;\n",
       "  color: #f1f1f1;\n",
       "}\n",
       "#T_4ca6a_row11_col4 {\n",
       "  background-color: #8badfd;\n",
       "  color: #000000;\n",
       "}\n",
       "#T_4ca6a_row11_col10 {\n",
       "  background-color: #5b7ae5;\n",
       "  color: #f1f1f1;\n",
       "}\n",
       "#T_4ca6a_row12_col7 {\n",
       "  background-color: #c3d5f4;\n",
       "  color: #000000;\n",
       "}\n",
       "</style>\n",
       "<table id=\"T_4ca6a_\">\n",
       "  <thead>\n",
       "    <tr>\n",
       "      <th class=\"blank level0\" >&nbsp;</th>\n",
       "      <th class=\"col_heading level0 col0\" >age</th>\n",
       "      <th class=\"col_heading level0 col1\" >anaemia</th>\n",
       "      <th class=\"col_heading level0 col2\" >creatinine_phosphokinase</th>\n",
       "      <th class=\"col_heading level0 col3\" >diabetes</th>\n",
       "      <th class=\"col_heading level0 col4\" >ejection_fraction</th>\n",
       "      <th class=\"col_heading level0 col5\" >high_blood_pressure</th>\n",
       "      <th class=\"col_heading level0 col6\" >platelets</th>\n",
       "      <th class=\"col_heading level0 col7\" >serum_creatinine</th>\n",
       "      <th class=\"col_heading level0 col8\" >serum_sodium</th>\n",
       "      <th class=\"col_heading level0 col9\" >sex</th>\n",
       "      <th class=\"col_heading level0 col10\" >smoking</th>\n",
       "      <th class=\"col_heading level0 col11\" >time</th>\n",
       "      <th class=\"col_heading level0 col12\" >DEATH_EVENT</th>\n",
       "    </tr>\n",
       "  </thead>\n",
       "  <tbody>\n",
       "    <tr>\n",
       "      <th id=\"T_4ca6a_level0_row0\" class=\"row_heading level0 row0\" >age</th>\n",
       "      <td id=\"T_4ca6a_row0_col0\" class=\"data row0 col0\" >1.000000</td>\n",
       "      <td id=\"T_4ca6a_row0_col1\" class=\"data row0 col1\" >0.088006</td>\n",
       "      <td id=\"T_4ca6a_row0_col2\" class=\"data row0 col2\" >-0.081584</td>\n",
       "      <td id=\"T_4ca6a_row0_col3\" class=\"data row0 col3\" >-0.101012</td>\n",
       "      <td id=\"T_4ca6a_row0_col4\" class=\"data row0 col4\" >0.060098</td>\n",
       "      <td id=\"T_4ca6a_row0_col5\" class=\"data row0 col5\" >0.093289</td>\n",
       "      <td id=\"T_4ca6a_row0_col6\" class=\"data row0 col6\" >-0.052354</td>\n",
       "      <td id=\"T_4ca6a_row0_col7\" class=\"data row0 col7\" >0.159187</td>\n",
       "      <td id=\"T_4ca6a_row0_col8\" class=\"data row0 col8\" >-0.045966</td>\n",
       "      <td id=\"T_4ca6a_row0_col9\" class=\"data row0 col9\" >0.065430</td>\n",
       "      <td id=\"T_4ca6a_row0_col10\" class=\"data row0 col10\" >0.018668</td>\n",
       "      <td id=\"T_4ca6a_row0_col11\" class=\"data row0 col11\" >-0.224068</td>\n",
       "      <td id=\"T_4ca6a_row0_col12\" class=\"data row0 col12\" >0.253729</td>\n",
       "    </tr>\n",
       "    <tr>\n",
       "      <th id=\"T_4ca6a_level0_row1\" class=\"row_heading level0 row1\" >anaemia</th>\n",
       "      <td id=\"T_4ca6a_row1_col0\" class=\"data row1 col0\" >0.088006</td>\n",
       "      <td id=\"T_4ca6a_row1_col1\" class=\"data row1 col1\" >1.000000</td>\n",
       "      <td id=\"T_4ca6a_row1_col2\" class=\"data row1 col2\" >-0.190741</td>\n",
       "      <td id=\"T_4ca6a_row1_col3\" class=\"data row1 col3\" >-0.012729</td>\n",
       "      <td id=\"T_4ca6a_row1_col4\" class=\"data row1 col4\" >0.031557</td>\n",
       "      <td id=\"T_4ca6a_row1_col5\" class=\"data row1 col5\" >0.038182</td>\n",
       "      <td id=\"T_4ca6a_row1_col6\" class=\"data row1 col6\" >-0.043786</td>\n",
       "      <td id=\"T_4ca6a_row1_col7\" class=\"data row1 col7\" >0.052174</td>\n",
       "      <td id=\"T_4ca6a_row1_col8\" class=\"data row1 col8\" >0.041882</td>\n",
       "      <td id=\"T_4ca6a_row1_col9\" class=\"data row1 col9\" >-0.094769</td>\n",
       "      <td id=\"T_4ca6a_row1_col10\" class=\"data row1 col10\" >-0.107290</td>\n",
       "      <td id=\"T_4ca6a_row1_col11\" class=\"data row1 col11\" >-0.141414</td>\n",
       "      <td id=\"T_4ca6a_row1_col12\" class=\"data row1 col12\" >0.066270</td>\n",
       "    </tr>\n",
       "    <tr>\n",
       "      <th id=\"T_4ca6a_level0_row2\" class=\"row_heading level0 row2\" >creatinine_phosphokinase</th>\n",
       "      <td id=\"T_4ca6a_row2_col0\" class=\"data row2 col0\" >-0.081584</td>\n",
       "      <td id=\"T_4ca6a_row2_col1\" class=\"data row2 col1\" >-0.190741</td>\n",
       "      <td id=\"T_4ca6a_row2_col2\" class=\"data row2 col2\" >1.000000</td>\n",
       "      <td id=\"T_4ca6a_row2_col3\" class=\"data row2 col3\" >-0.009639</td>\n",
       "      <td id=\"T_4ca6a_row2_col4\" class=\"data row2 col4\" >-0.044080</td>\n",
       "      <td id=\"T_4ca6a_row2_col5\" class=\"data row2 col5\" >-0.070590</td>\n",
       "      <td id=\"T_4ca6a_row2_col6\" class=\"data row2 col6\" >0.024463</td>\n",
       "      <td id=\"T_4ca6a_row2_col7\" class=\"data row2 col7\" >-0.016408</td>\n",
       "      <td id=\"T_4ca6a_row2_col8\" class=\"data row2 col8\" >0.059550</td>\n",
       "      <td id=\"T_4ca6a_row2_col9\" class=\"data row2 col9\" >0.079791</td>\n",
       "      <td id=\"T_4ca6a_row2_col10\" class=\"data row2 col10\" >0.002421</td>\n",
       "      <td id=\"T_4ca6a_row2_col11\" class=\"data row2 col11\" >-0.009346</td>\n",
       "      <td id=\"T_4ca6a_row2_col12\" class=\"data row2 col12\" >0.062728</td>\n",
       "    </tr>\n",
       "    <tr>\n",
       "      <th id=\"T_4ca6a_level0_row3\" class=\"row_heading level0 row3\" >diabetes</th>\n",
       "      <td id=\"T_4ca6a_row3_col0\" class=\"data row3 col0\" >-0.101012</td>\n",
       "      <td id=\"T_4ca6a_row3_col1\" class=\"data row3 col1\" >-0.012729</td>\n",
       "      <td id=\"T_4ca6a_row3_col2\" class=\"data row3 col2\" >-0.009639</td>\n",
       "      <td id=\"T_4ca6a_row3_col3\" class=\"data row3 col3\" >1.000000</td>\n",
       "      <td id=\"T_4ca6a_row3_col4\" class=\"data row3 col4\" >-0.004850</td>\n",
       "      <td id=\"T_4ca6a_row3_col5\" class=\"data row3 col5\" >-0.012732</td>\n",
       "      <td id=\"T_4ca6a_row3_col6\" class=\"data row3 col6\" >0.092193</td>\n",
       "      <td id=\"T_4ca6a_row3_col7\" class=\"data row3 col7\" >-0.046975</td>\n",
       "      <td id=\"T_4ca6a_row3_col8\" class=\"data row3 col8\" >-0.089551</td>\n",
       "      <td id=\"T_4ca6a_row3_col9\" class=\"data row3 col9\" >-0.157730</td>\n",
       "      <td id=\"T_4ca6a_row3_col10\" class=\"data row3 col10\" >-0.147173</td>\n",
       "      <td id=\"T_4ca6a_row3_col11\" class=\"data row3 col11\" >0.033726</td>\n",
       "      <td id=\"T_4ca6a_row3_col12\" class=\"data row3 col12\" >-0.001943</td>\n",
       "    </tr>\n",
       "    <tr>\n",
       "      <th id=\"T_4ca6a_level0_row4\" class=\"row_heading level0 row4\" >ejection_fraction</th>\n",
       "      <td id=\"T_4ca6a_row4_col0\" class=\"data row4 col0\" >0.060098</td>\n",
       "      <td id=\"T_4ca6a_row4_col1\" class=\"data row4 col1\" >0.031557</td>\n",
       "      <td id=\"T_4ca6a_row4_col2\" class=\"data row4 col2\" >-0.044080</td>\n",
       "      <td id=\"T_4ca6a_row4_col3\" class=\"data row4 col3\" >-0.004850</td>\n",
       "      <td id=\"T_4ca6a_row4_col4\" class=\"data row4 col4\" >1.000000</td>\n",
       "      <td id=\"T_4ca6a_row4_col5\" class=\"data row4 col5\" >0.024445</td>\n",
       "      <td id=\"T_4ca6a_row4_col6\" class=\"data row4 col6\" >0.072177</td>\n",
       "      <td id=\"T_4ca6a_row4_col7\" class=\"data row4 col7\" >-0.011302</td>\n",
       "      <td id=\"T_4ca6a_row4_col8\" class=\"data row4 col8\" >0.175902</td>\n",
       "      <td id=\"T_4ca6a_row4_col9\" class=\"data row4 col9\" >-0.148386</td>\n",
       "      <td id=\"T_4ca6a_row4_col10\" class=\"data row4 col10\" >-0.067315</td>\n",
       "      <td id=\"T_4ca6a_row4_col11\" class=\"data row4 col11\" >0.041729</td>\n",
       "      <td id=\"T_4ca6a_row4_col12\" class=\"data row4 col12\" >-0.268603</td>\n",
       "    </tr>\n",
       "    <tr>\n",
       "      <th id=\"T_4ca6a_level0_row5\" class=\"row_heading level0 row5\" >high_blood_pressure</th>\n",
       "      <td id=\"T_4ca6a_row5_col0\" class=\"data row5 col0\" >0.093289</td>\n",
       "      <td id=\"T_4ca6a_row5_col1\" class=\"data row5 col1\" >0.038182</td>\n",
       "      <td id=\"T_4ca6a_row5_col2\" class=\"data row5 col2\" >-0.070590</td>\n",
       "      <td id=\"T_4ca6a_row5_col3\" class=\"data row5 col3\" >-0.012732</td>\n",
       "      <td id=\"T_4ca6a_row5_col4\" class=\"data row5 col4\" >0.024445</td>\n",
       "      <td id=\"T_4ca6a_row5_col5\" class=\"data row5 col5\" >1.000000</td>\n",
       "      <td id=\"T_4ca6a_row5_col6\" class=\"data row5 col6\" >0.049963</td>\n",
       "      <td id=\"T_4ca6a_row5_col7\" class=\"data row5 col7\" >-0.004935</td>\n",
       "      <td id=\"T_4ca6a_row5_col8\" class=\"data row5 col8\" >0.037109</td>\n",
       "      <td id=\"T_4ca6a_row5_col9\" class=\"data row5 col9\" >-0.104615</td>\n",
       "      <td id=\"T_4ca6a_row5_col10\" class=\"data row5 col10\" >-0.055711</td>\n",
       "      <td id=\"T_4ca6a_row5_col11\" class=\"data row5 col11\" >-0.196439</td>\n",
       "      <td id=\"T_4ca6a_row5_col12\" class=\"data row5 col12\" >0.079351</td>\n",
       "    </tr>\n",
       "    <tr>\n",
       "      <th id=\"T_4ca6a_level0_row6\" class=\"row_heading level0 row6\" >platelets</th>\n",
       "      <td id=\"T_4ca6a_row6_col0\" class=\"data row6 col0\" >-0.052354</td>\n",
       "      <td id=\"T_4ca6a_row6_col1\" class=\"data row6 col1\" >-0.043786</td>\n",
       "      <td id=\"T_4ca6a_row6_col2\" class=\"data row6 col2\" >0.024463</td>\n",
       "      <td id=\"T_4ca6a_row6_col3\" class=\"data row6 col3\" >0.092193</td>\n",
       "      <td id=\"T_4ca6a_row6_col4\" class=\"data row6 col4\" >0.072177</td>\n",
       "      <td id=\"T_4ca6a_row6_col5\" class=\"data row6 col5\" >0.049963</td>\n",
       "      <td id=\"T_4ca6a_row6_col6\" class=\"data row6 col6\" >1.000000</td>\n",
       "      <td id=\"T_4ca6a_row6_col7\" class=\"data row6 col7\" >-0.041198</td>\n",
       "      <td id=\"T_4ca6a_row6_col8\" class=\"data row6 col8\" >0.062125</td>\n",
       "      <td id=\"T_4ca6a_row6_col9\" class=\"data row6 col9\" >-0.125120</td>\n",
       "      <td id=\"T_4ca6a_row6_col10\" class=\"data row6 col10\" >0.028234</td>\n",
       "      <td id=\"T_4ca6a_row6_col11\" class=\"data row6 col11\" >0.010514</td>\n",
       "      <td id=\"T_4ca6a_row6_col12\" class=\"data row6 col12\" >-0.049139</td>\n",
       "    </tr>\n",
       "    <tr>\n",
       "      <th id=\"T_4ca6a_level0_row7\" class=\"row_heading level0 row7\" >serum_creatinine</th>\n",
       "      <td id=\"T_4ca6a_row7_col0\" class=\"data row7 col0\" >0.159187</td>\n",
       "      <td id=\"T_4ca6a_row7_col1\" class=\"data row7 col1\" >0.052174</td>\n",
       "      <td id=\"T_4ca6a_row7_col2\" class=\"data row7 col2\" >-0.016408</td>\n",
       "      <td id=\"T_4ca6a_row7_col3\" class=\"data row7 col3\" >-0.046975</td>\n",
       "      <td id=\"T_4ca6a_row7_col4\" class=\"data row7 col4\" >-0.011302</td>\n",
       "      <td id=\"T_4ca6a_row7_col5\" class=\"data row7 col5\" >-0.004935</td>\n",
       "      <td id=\"T_4ca6a_row7_col6\" class=\"data row7 col6\" >-0.041198</td>\n",
       "      <td id=\"T_4ca6a_row7_col7\" class=\"data row7 col7\" >1.000000</td>\n",
       "      <td id=\"T_4ca6a_row7_col8\" class=\"data row7 col8\" >-0.189095</td>\n",
       "      <td id=\"T_4ca6a_row7_col9\" class=\"data row7 col9\" >0.006970</td>\n",
       "      <td id=\"T_4ca6a_row7_col10\" class=\"data row7 col10\" >-0.027414</td>\n",
       "      <td id=\"T_4ca6a_row7_col11\" class=\"data row7 col11\" >-0.149315</td>\n",
       "      <td id=\"T_4ca6a_row7_col12\" class=\"data row7 col12\" >0.294278</td>\n",
       "    </tr>\n",
       "    <tr>\n",
       "      <th id=\"T_4ca6a_level0_row8\" class=\"row_heading level0 row8\" >serum_sodium</th>\n",
       "      <td id=\"T_4ca6a_row8_col0\" class=\"data row8 col0\" >-0.045966</td>\n",
       "      <td id=\"T_4ca6a_row8_col1\" class=\"data row8 col1\" >0.041882</td>\n",
       "      <td id=\"T_4ca6a_row8_col2\" class=\"data row8 col2\" >0.059550</td>\n",
       "      <td id=\"T_4ca6a_row8_col3\" class=\"data row8 col3\" >-0.089551</td>\n",
       "      <td id=\"T_4ca6a_row8_col4\" class=\"data row8 col4\" >0.175902</td>\n",
       "      <td id=\"T_4ca6a_row8_col5\" class=\"data row8 col5\" >0.037109</td>\n",
       "      <td id=\"T_4ca6a_row8_col6\" class=\"data row8 col6\" >0.062125</td>\n",
       "      <td id=\"T_4ca6a_row8_col7\" class=\"data row8 col7\" >-0.189095</td>\n",
       "      <td id=\"T_4ca6a_row8_col8\" class=\"data row8 col8\" >1.000000</td>\n",
       "      <td id=\"T_4ca6a_row8_col9\" class=\"data row8 col9\" >-0.027566</td>\n",
       "      <td id=\"T_4ca6a_row8_col10\" class=\"data row8 col10\" >0.004813</td>\n",
       "      <td id=\"T_4ca6a_row8_col11\" class=\"data row8 col11\" >0.087640</td>\n",
       "      <td id=\"T_4ca6a_row8_col12\" class=\"data row8 col12\" >-0.195204</td>\n",
       "    </tr>\n",
       "    <tr>\n",
       "      <th id=\"T_4ca6a_level0_row9\" class=\"row_heading level0 row9\" >sex</th>\n",
       "      <td id=\"T_4ca6a_row9_col0\" class=\"data row9 col0\" >0.065430</td>\n",
       "      <td id=\"T_4ca6a_row9_col1\" class=\"data row9 col1\" >-0.094769</td>\n",
       "      <td id=\"T_4ca6a_row9_col2\" class=\"data row9 col2\" >0.079791</td>\n",
       "      <td id=\"T_4ca6a_row9_col3\" class=\"data row9 col3\" >-0.157730</td>\n",
       "      <td id=\"T_4ca6a_row9_col4\" class=\"data row9 col4\" >-0.148386</td>\n",
       "      <td id=\"T_4ca6a_row9_col5\" class=\"data row9 col5\" >-0.104615</td>\n",
       "      <td id=\"T_4ca6a_row9_col6\" class=\"data row9 col6\" >-0.125120</td>\n",
       "      <td id=\"T_4ca6a_row9_col7\" class=\"data row9 col7\" >0.006970</td>\n",
       "      <td id=\"T_4ca6a_row9_col8\" class=\"data row9 col8\" >-0.027566</td>\n",
       "      <td id=\"T_4ca6a_row9_col9\" class=\"data row9 col9\" >1.000000</td>\n",
       "      <td id=\"T_4ca6a_row9_col10\" class=\"data row9 col10\" >0.445892</td>\n",
       "      <td id=\"T_4ca6a_row9_col11\" class=\"data row9 col11\" >-0.015608</td>\n",
       "      <td id=\"T_4ca6a_row9_col12\" class=\"data row9 col12\" >-0.004316</td>\n",
       "    </tr>\n",
       "    <tr>\n",
       "      <th id=\"T_4ca6a_level0_row10\" class=\"row_heading level0 row10\" >smoking</th>\n",
       "      <td id=\"T_4ca6a_row10_col0\" class=\"data row10 col0\" >0.018668</td>\n",
       "      <td id=\"T_4ca6a_row10_col1\" class=\"data row10 col1\" >-0.107290</td>\n",
       "      <td id=\"T_4ca6a_row10_col2\" class=\"data row10 col2\" >0.002421</td>\n",
       "      <td id=\"T_4ca6a_row10_col3\" class=\"data row10 col3\" >-0.147173</td>\n",
       "      <td id=\"T_4ca6a_row10_col4\" class=\"data row10 col4\" >-0.067315</td>\n",
       "      <td id=\"T_4ca6a_row10_col5\" class=\"data row10 col5\" >-0.055711</td>\n",
       "      <td id=\"T_4ca6a_row10_col6\" class=\"data row10 col6\" >0.028234</td>\n",
       "      <td id=\"T_4ca6a_row10_col7\" class=\"data row10 col7\" >-0.027414</td>\n",
       "      <td id=\"T_4ca6a_row10_col8\" class=\"data row10 col8\" >0.004813</td>\n",
       "      <td id=\"T_4ca6a_row10_col9\" class=\"data row10 col9\" >0.445892</td>\n",
       "      <td id=\"T_4ca6a_row10_col10\" class=\"data row10 col10\" >1.000000</td>\n",
       "      <td id=\"T_4ca6a_row10_col11\" class=\"data row10 col11\" >-0.022839</td>\n",
       "      <td id=\"T_4ca6a_row10_col12\" class=\"data row10 col12\" >-0.012623</td>\n",
       "    </tr>\n",
       "    <tr>\n",
       "      <th id=\"T_4ca6a_level0_row11\" class=\"row_heading level0 row11\" >time</th>\n",
       "      <td id=\"T_4ca6a_row11_col0\" class=\"data row11 col0\" >-0.224068</td>\n",
       "      <td id=\"T_4ca6a_row11_col1\" class=\"data row11 col1\" >-0.141414</td>\n",
       "      <td id=\"T_4ca6a_row11_col2\" class=\"data row11 col2\" >-0.009346</td>\n",
       "      <td id=\"T_4ca6a_row11_col3\" class=\"data row11 col3\" >0.033726</td>\n",
       "      <td id=\"T_4ca6a_row11_col4\" class=\"data row11 col4\" >0.041729</td>\n",
       "      <td id=\"T_4ca6a_row11_col5\" class=\"data row11 col5\" >-0.196439</td>\n",
       "      <td id=\"T_4ca6a_row11_col6\" class=\"data row11 col6\" >0.010514</td>\n",
       "      <td id=\"T_4ca6a_row11_col7\" class=\"data row11 col7\" >-0.149315</td>\n",
       "      <td id=\"T_4ca6a_row11_col8\" class=\"data row11 col8\" >0.087640</td>\n",
       "      <td id=\"T_4ca6a_row11_col9\" class=\"data row11 col9\" >-0.015608</td>\n",
       "      <td id=\"T_4ca6a_row11_col10\" class=\"data row11 col10\" >-0.022839</td>\n",
       "      <td id=\"T_4ca6a_row11_col11\" class=\"data row11 col11\" >1.000000</td>\n",
       "      <td id=\"T_4ca6a_row11_col12\" class=\"data row11 col12\" >-0.526964</td>\n",
       "    </tr>\n",
       "    <tr>\n",
       "      <th id=\"T_4ca6a_level0_row12\" class=\"row_heading level0 row12\" >DEATH_EVENT</th>\n",
       "      <td id=\"T_4ca6a_row12_col0\" class=\"data row12 col0\" >0.253729</td>\n",
       "      <td id=\"T_4ca6a_row12_col1\" class=\"data row12 col1\" >0.066270</td>\n",
       "      <td id=\"T_4ca6a_row12_col2\" class=\"data row12 col2\" >0.062728</td>\n",
       "      <td id=\"T_4ca6a_row12_col3\" class=\"data row12 col3\" >-0.001943</td>\n",
       "      <td id=\"T_4ca6a_row12_col4\" class=\"data row12 col4\" >-0.268603</td>\n",
       "      <td id=\"T_4ca6a_row12_col5\" class=\"data row12 col5\" >0.079351</td>\n",
       "      <td id=\"T_4ca6a_row12_col6\" class=\"data row12 col6\" >-0.049139</td>\n",
       "      <td id=\"T_4ca6a_row12_col7\" class=\"data row12 col7\" >0.294278</td>\n",
       "      <td id=\"T_4ca6a_row12_col8\" class=\"data row12 col8\" >-0.195204</td>\n",
       "      <td id=\"T_4ca6a_row12_col9\" class=\"data row12 col9\" >-0.004316</td>\n",
       "      <td id=\"T_4ca6a_row12_col10\" class=\"data row12 col10\" >-0.012623</td>\n",
       "      <td id=\"T_4ca6a_row12_col11\" class=\"data row12 col11\" >-0.526964</td>\n",
       "      <td id=\"T_4ca6a_row12_col12\" class=\"data row12 col12\" >1.000000</td>\n",
       "    </tr>\n",
       "  </tbody>\n",
       "</table>\n"
      ],
      "text/plain": [
       "<pandas.io.formats.style.Styler at 0x1b7cf13e8b0>"
      ]
     },
     "execution_count": 16,
     "metadata": {},
     "output_type": "execute_result"
    }
   ],
   "source": [
    "# melihat korelasi antar variabel dalam bentuk tabel\n",
    "\n",
    "df.corr().style.background_gradient(cmap='coolwarm')"
   ]
  },
  {
   "cell_type": "markdown",
   "id": "4a231dd4",
   "metadata": {},
   "source": [
    "Dari heatmap dan tabel korelasi diperoleh nilai korelasi antara death_event (variabel prediktor) dengan variabel-variabel lainnya, yaitu sebagai berikut :\n",
    "- age : 0.253729\n",
    "- anaemia : 0.066270\n",
    "- creatinine_phosphokinase : 0.062728\n",
    "- diabetes : -0.001943\n",
    "- ejection_fraction = -0.268603\n",
    "- high_blood_pressure = 0.079351\n",
    "- platelets : -0.049139\n",
    "- serum_creatinine : 0.294278\n",
    "- serum_sodium : -0.195204\n",
    "- sex : -0.004316\n",
    "- smoking : -0.012623\n",
    "- time : -0.526964"
   ]
  },
  {
   "cell_type": "markdown",
   "id": "6fb59805",
   "metadata": {},
   "source": [
    "## Feature Importance"
   ]
  },
  {
   "cell_type": "markdown",
   "id": "c223057e",
   "metadata": {},
   "source": [
    "Dari nilai korelasi yang diperoleh maka akan diambil beberapa fitur dari 12 variabel yang memiliki korelasi cukup besar terhadap variabel prediktor."
   ]
  },
  {
   "cell_type": "code",
   "execution_count": 17,
   "id": "8a1f7921",
   "metadata": {},
   "outputs": [],
   "source": [
    "# memilih fitur yang memiliki nilai korelasi > 0.20\n",
    "\n",
    "subset_features = corr[abs(corr[\"DEATH_EVENT\"]) > 0.20][\"DEATH_EVENT\"].index"
   ]
  },
  {
   "cell_type": "code",
   "execution_count": 18,
   "id": "4b92e9a3",
   "metadata": {
    "scrolled": true
   },
   "outputs": [
    {
     "data": {
      "text/plain": [
       "Index(['age', 'ejection_fraction', 'serum_creatinine', 'time', 'DEATH_EVENT'], dtype='object')"
      ]
     },
     "execution_count": 18,
     "metadata": {},
     "output_type": "execute_result"
    }
   ],
   "source": [
    "subset_features"
   ]
  },
  {
   "cell_type": "markdown",
   "id": "7e6050a9",
   "metadata": {},
   "source": [
    "Variabel yang memiliki korelasi cukup besar terhadap variabel DEATH_EVENT yaitu variabel age, ejection_fraction, serum_creatinine, dan time dimana nilai korelasinya lebih dari 0.2"
   ]
  },
  {
   "cell_type": "code",
   "execution_count": 19,
   "id": "02012037",
   "metadata": {},
   "outputs": [
    {
     "data": {
      "text/html": [
       "<div>\n",
       "<style scoped>\n",
       "    .dataframe tbody tr th:only-of-type {\n",
       "        vertical-align: middle;\n",
       "    }\n",
       "\n",
       "    .dataframe tbody tr th {\n",
       "        vertical-align: top;\n",
       "    }\n",
       "\n",
       "    .dataframe thead th {\n",
       "        text-align: right;\n",
       "    }\n",
       "</style>\n",
       "<table border=\"1\" class=\"dataframe\">\n",
       "  <thead>\n",
       "    <tr style=\"text-align: right;\">\n",
       "      <th></th>\n",
       "      <th>age</th>\n",
       "      <th>ejection_fraction</th>\n",
       "      <th>serum_creatinine</th>\n",
       "      <th>time</th>\n",
       "      <th>DEATH_EVENT</th>\n",
       "    </tr>\n",
       "  </thead>\n",
       "  <tbody>\n",
       "    <tr>\n",
       "      <th>0</th>\n",
       "      <td>75.0</td>\n",
       "      <td>20</td>\n",
       "      <td>1.9</td>\n",
       "      <td>4</td>\n",
       "      <td>1</td>\n",
       "    </tr>\n",
       "    <tr>\n",
       "      <th>1</th>\n",
       "      <td>55.0</td>\n",
       "      <td>38</td>\n",
       "      <td>1.1</td>\n",
       "      <td>6</td>\n",
       "      <td>1</td>\n",
       "    </tr>\n",
       "    <tr>\n",
       "      <th>2</th>\n",
       "      <td>65.0</td>\n",
       "      <td>20</td>\n",
       "      <td>1.3</td>\n",
       "      <td>7</td>\n",
       "      <td>1</td>\n",
       "    </tr>\n",
       "    <tr>\n",
       "      <th>3</th>\n",
       "      <td>50.0</td>\n",
       "      <td>20</td>\n",
       "      <td>1.9</td>\n",
       "      <td>7</td>\n",
       "      <td>1</td>\n",
       "    </tr>\n",
       "    <tr>\n",
       "      <th>4</th>\n",
       "      <td>65.0</td>\n",
       "      <td>20</td>\n",
       "      <td>2.7</td>\n",
       "      <td>8</td>\n",
       "      <td>1</td>\n",
       "    </tr>\n",
       "  </tbody>\n",
       "</table>\n",
       "</div>"
      ],
      "text/plain": [
       "    age  ejection_fraction  serum_creatinine  time  DEATH_EVENT\n",
       "0  75.0                 20               1.9     4            1\n",
       "1  55.0                 38               1.1     6            1\n",
       "2  65.0                 20               1.3     7            1\n",
       "3  50.0                 20               1.9     7            1\n",
       "4  65.0                 20               2.7     8            1"
      ]
     },
     "execution_count": 19,
     "metadata": {},
     "output_type": "execute_result"
    }
   ],
   "source": [
    "## Membuat data frame baru berisi variabel-variabel di atas\n",
    "\n",
    "df = df.filter(items=subset_features)\n",
    "df.head()"
   ]
  },
  {
   "cell_type": "markdown",
   "id": "66b392d0",
   "metadata": {},
   "source": [
    "## Melihat distribusi variabel independen dengan variabel prediktor"
   ]
  },
  {
   "cell_type": "code",
   "execution_count": 20,
   "id": "c1c9f740",
   "metadata": {},
   "outputs": [
    {
     "data": {
      "text/plain": [
       "Text(0.5, 1.0, 'Age Distribution against death event')"
      ]
     },
     "execution_count": 20,
     "metadata": {},
     "output_type": "execute_result"
    },
    {
     "data": {
      "image/png": "[encoded data removed]",
      "text/plain": [
       "<Figure size 1152x576 with 2 Axes>"
      ]
     },
     "metadata": {
      "needs_background": "light"
     },
     "output_type": "display_data"
    }
   ],
   "source": [
    "# melihat distribusi variabel 'age' dengan death_event\n",
    "\n",
    "fig,ax=plt.subplots(1,2,figsize=(16,8))\n",
    "ax[0].hist(df['age'],label='patients')\n",
    "ax[0].set_xlabel('Age')\n",
    "ax[0].set_ylabel('No of patients')\n",
    "ax[0].set_yticks([5,10,15,20,25,30,35,40,45,50,55,60])\n",
    "ax[0].legend()\n",
    "ax[0].set_title('Age Distribution')\n",
    "ax[1].hist(x=[df[df['DEATH_EVENT']==1]['age'],df[df['DEATH_EVENT']==0]['age']],stacked=True,label=['Dead','Survived'])\n",
    "ax[1].set_xlabel('Age')\n",
    "ax[1].set_ylabel('No of patients')\n",
    "ax[1].set_yticks([5,10,15,20,25,30,35,40,45,50,55,60])\n",
    "ax[1].legend()\n",
    "ax[1].set_title('Age Distribution against death event')"
   ]
  },
  {
   "cell_type": "code",
   "execution_count": 21,
   "id": "5f86762c",
   "metadata": {},
   "outputs": [
    {
     "data": {
      "text/plain": [
       "<matplotlib.legend.Legend at 0x1b7cfbb7040>"
      ]
     },
     "execution_count": 21,
     "metadata": {},
     "output_type": "execute_result"
    },
    {
     "data": {
      "image/png": "[encoded data removed]",
      "text/plain": [
       "<Figure size 1152x576 with 2 Axes>"
      ]
     },
     "metadata": {
      "needs_background": "light"
     },
     "output_type": "display_data"
    }
   ],
   "source": [
    "# melihat distribusi variabel 'ejection_fraction' dengan death_event\n",
    "\n",
    "fig,ax = plt.subplots(1,2,figsize=(16,8))\n",
    "ax[0].hist(df['ejection_fraction'], label = 'patients')\n",
    "ax[0].set_xlabel('Ejection_fraction')\n",
    "ax[0].set_ylabel('Number of Patients')\n",
    "ax[0].set_yticks([10,20,30,40,50,60,70,80,90,100,110,120,130,140,150])\n",
    "ax[0].legend()\n",
    "ax[0].set_title('Ejection_fraction Distribution')\n",
    "ax[1].hist(x = [df[df['DEATH_EVENT']==1]['ejection_fraction'],df[df['DEATH_EVENT']==0]['ejection_fraction']], stacked=True, label=['Dead','Survived'])\n",
    "ax[1].set_xlabel('Ejection_fraction')\n",
    "ax[1].set_ylabel('Number of patients')\n",
    "ax[1].set_yticks([10,20,30,40,50,60,70,80,90,100,110,120,130,140,150])\n",
    "ax[1].set_title('Distribution of ejection_fraction against Death_event')\n",
    "ax[1].legend()"
   ]
  },
  {
   "cell_type": "code",
   "execution_count": 22,
   "id": "1ee83701",
   "metadata": {},
   "outputs": [
    {
     "data": {
      "text/plain": [
       "<matplotlib.legend.Legend at 0x1b7cf102e20>"
      ]
     },
     "execution_count": 22,
     "metadata": {},
     "output_type": "execute_result"
    },
    {
     "data": {
      "image/png": "[encoded data removed]",
      "text/plain": [
       "<Figure size 1152x576 with 2 Axes>"
      ]
     },
     "metadata": {
      "needs_background": "light"
     },
     "output_type": "display_data"
    }
   ],
   "source": [
    "# melihat distribusi variabel 'Serum creatinine' dengan death_event\n",
    "\n",
    "fig,ax = plt.subplots(1,2,figsize=(16,8))\n",
    "ax[0].hist(df['serum_creatinine'], label = 'patients')\n",
    "ax[0].set_xlabel('serum_creatinine')\n",
    "ax[0].set_ylabel('Number of Patients')\n",
    "ax[0].set_yticks([10,20,30,40,50,60,70,80,90,100,110,120,130,140,150])\n",
    "ax[0].legend()\n",
    "ax[0].set_title('serum_creatinine Distribution')\n",
    "ax[1].hist(x = [df[df['DEATH_EVENT']==1]['serum_creatinine'],df[df['DEATH_EVENT']==0]['serum_creatinine']], stacked=True, label=['Dead','Survived'])\n",
    "ax[1].set_xlabel('serum_creatinine')\n",
    "ax[1].set_ylabel('Number of patients')\n",
    "ax[1].set_yticks(([10,20,30,40,50,60,70,80,90,100,110,120,130,140,150,160,170,180,190,200,210,220]))\n",
    "ax[1].set_title('Distribution of sodium_creatinine against Death_event')\n",
    "ax[1].legend()"
   ]
  },
  {
   "cell_type": "code",
   "execution_count": 23,
   "id": "18c00742",
   "metadata": {},
   "outputs": [
    {
     "data": {
      "text/plain": [
       "<matplotlib.legend.Legend at 0x1b7d115d8e0>"
      ]
     },
     "execution_count": 23,
     "metadata": {},
     "output_type": "execute_result"
    },
    {
     "data": {
      "image/png": "[encoded data removed]",
      "text/plain": [
       "<Figure size 1152x576 with 2 Axes>"
      ]
     },
     "metadata": {
      "needs_background": "light"
     },
     "output_type": "display_data"
    }
   ],
   "source": [
    "# melihat distribusi variabel 'time' dengan death_event\n",
    "\n",
    "fig,ax = plt.subplots(1,2,figsize=(16,8))\n",
    "ax[0].hist(df['time'], label = 'patients')\n",
    "ax[0].set_xlabel('Time')\n",
    "ax[0].set_ylabel('Number of Patients')\n",
    "ax[0].set_yticks([10,20,30,40,50,60,70,80,90,100,110,120,130,140,150])\n",
    "ax[0].legend()\n",
    "ax[0].set_title('Time Distribution')\n",
    "ax[1].hist(x = [df[df['DEATH_EVENT']==1]['time'],df[df['DEATH_EVENT']==0]['time']], stacked=True, label=['Dead','Survived'])\n",
    "ax[1].set_xlabel('Time')\n",
    "ax[1].set_ylabel('Number of patients')\n",
    "ax[1].set_yticks([10,20,30,40,50,60,70,80,90,100,110,120,130,140,150])\n",
    "ax[1].set_title('Distribution of Time against Death_event')\n",
    "ax[1].legend()"
   ]
  },
  {
   "cell_type": "markdown",
   "id": "52611c1b",
   "metadata": {},
   "source": [
    "# Dataset Development"
   ]
  },
  {
   "cell_type": "code",
   "execution_count": 24,
   "id": "bb5fcb32",
   "metadata": {},
   "outputs": [],
   "source": [
    "X = df.drop('DEATH_EVENT', axis = 1)\n",
    "y = df['DEATH_EVENT']"
   ]
  },
  {
   "cell_type": "markdown",
   "id": "24945ddc",
   "metadata": {},
   "source": [
    "Membagi dataset menjadi data training dan data testing dengan ratio 70:30"
   ]
  },
  {
   "cell_type": "code",
   "execution_count": 25,
   "id": "67eaf136",
   "metadata": {},
   "outputs": [
    {
     "name": "stdout",
     "output_type": "stream",
     "text": [
      "Shape of the X_train (209, 4)\n",
      "Shape of the X_test (90, 4)\n",
      "Shape of the y_train (209,)\n",
      "Shape of the y_test (90,)\n"
     ]
    }
   ],
   "source": [
    "X_train,X_test, y_train, y_test = train_test_split(X, y, test_size = 0.3, random_state= random_state)\n",
    "\n",
    "print(f'Shape of the X_train {X_train.shape}')\n",
    "print(f'Shape of the X_test {X_test.shape}')\n",
    "print(f'Shape of the y_train {y_train.shape}')\n",
    "print(f'Shape of the y_test {y_test.shape}')"
   ]
  },
  {
   "cell_type": "code",
   "execution_count": 26,
   "id": "70646911",
   "metadata": {},
   "outputs": [],
   "source": [
    "scaler=StandardScaler()\n",
    "X_train=scaler.fit_transform(X_train)\n",
    "X_test=scaler.transform(X_test)"
   ]
  },
  {
   "cell_type": "markdown",
   "id": "4f47b14a",
   "metadata": {},
   "source": [
    "# Modelling"
   ]
  },
  {
   "cell_type": "markdown",
   "id": "73b038ea",
   "metadata": {},
   "source": [
    "## Bagging\n",
    "Also known as Bootstrap aggregating because the training set is divided into multiple sub samples and fed to each weak learner(for e.g.: each decision tree). And each sub sample contains a few set of features along with a few observations selected randomly."
   ]
  },
  {
   "cell_type": "markdown",
   "id": "d017ae22",
   "metadata": {},
   "source": [
    "### 1. Ensemble of same classifiers\n",
    "Few examples are Random Forest , Extra tree classifiers/regressors, ensemble of linear regressors, ensemble of logistic regression classifiers, ensemble of SVMs etc."
   ]
  },
  {
   "cell_type": "markdown",
   "id": "bdec4e56",
   "metadata": {},
   "source": [
    "#### Random Forest"
   ]
  },
  {
   "cell_type": "code",
   "execution_count": 27,
   "id": "68904664",
   "metadata": {},
   "outputs": [
    {
     "name": "stdout",
     "output_type": "stream",
     "text": [
      "              precision    recall  f1-score   support\n",
      "\n",
      "           0       0.85      0.94      0.89        62\n",
      "           1       0.82      0.64      0.72        28\n",
      "\n",
      "    accuracy                           0.84        90\n",
      "   macro avg       0.84      0.79      0.81        90\n",
      "weighted avg       0.84      0.84      0.84        90\n",
      "\n"
     ]
    }
   ],
   "source": [
    "# pelatihan model\n",
    "clf = RandomForestClassifier(\n",
    "    n_jobs=-1, class_weight=\"balanced\", random_state=random_state\n",
    ")\n",
    "clf.fit(X_train, y_train)\n",
    "\n",
    "y_pred1 = clf.predict(X_test)\n",
    "\n",
    "# evaluasi model\n",
    "confusion_matrix(y_test,y_pred1)\n",
    "print(classification_report(y_test,y_pred1))"
   ]
  },
  {
   "cell_type": "markdown",
   "id": "c2101e06",
   "metadata": {},
   "source": [
    "#### Ensemble of logistic regression classifiers (Bagging Classifier)"
   ]
  },
  {
   "cell_type": "code",
   "execution_count": 28,
   "id": "44539a21",
   "metadata": {},
   "outputs": [
    {
     "name": "stdout",
     "output_type": "stream",
     "text": [
      "              precision    recall  f1-score   support\n",
      "\n",
      "           0       0.83      0.92      0.87        62\n",
      "           1       0.76      0.57      0.65        28\n",
      "\n",
      "    accuracy                           0.81        90\n",
      "   macro avg       0.79      0.75      0.76        90\n",
      "weighted avg       0.81      0.81      0.80        90\n",
      "\n"
     ]
    }
   ],
   "source": [
    "# pelatihan model\n",
    "\n",
    "# Multiple logistic regression classifiers using bagging Classifier.\n",
    "# Number of logistic regression classifiers we are using here are 400.\n",
    "logbagClf = BaggingClassifier(LogisticRegression(random_state=random_state, solver='lbfgs'), n_estimators = 400, oob_score = True, random_state = random_state)\n",
    "logbagClf.fit(X_train, y_train)\n",
    "\n",
    "y_pred1 = logbagClf.predict(X_test)\n",
    "\n",
    "# evaluasi model\n",
    "confusion_matrix(y_test,y_pred1)\n",
    "print(classification_report(y_test,y_pred1))"
   ]
  },
  {
   "cell_type": "markdown",
   "id": "2c78301d",
   "metadata": {},
   "source": [
    "#### Extra Tree Classifiers"
   ]
  },
  {
   "cell_type": "code",
   "execution_count": 29,
   "id": "0cf811fb",
   "metadata": {},
   "outputs": [
    {
     "name": "stdout",
     "output_type": "stream",
     "text": [
      "              precision    recall  f1-score   support\n",
      "\n",
      "           0       0.88      0.94      0.91        62\n",
      "           1       0.83      0.71      0.77        28\n",
      "\n",
      "    accuracy                           0.87        90\n",
      "   macro avg       0.86      0.82      0.84        90\n",
      "weighted avg       0.86      0.87      0.86        90\n",
      "\n"
     ]
    }
   ],
   "source": [
    "# pelatihan model\n",
    "extra_tree=ExtraTreesClassifier(random_state=random_state)\n",
    "extra_tree.fit(X_train, y_train)\n",
    "\n",
    "y_pred1 = extra_tree.predict(X_test)\n",
    "\n",
    "# evaluasi model\n",
    "confusion_matrix(y_test,y_pred1)\n",
    "print(classification_report(y_test,y_pred1))"
   ]
  },
  {
   "cell_type": "markdown",
   "id": "cfdcd534",
   "metadata": {},
   "source": [
    "### 2. Ensemble of several different types of models (Voting Classifier)"
   ]
  },
  {
   "cell_type": "markdown",
   "id": "7bc9f932",
   "metadata": {},
   "source": [
    "For my testing purpose, I am using an ensemble of RandomForestClassifier, Support vector machine and Logistic regression."
   ]
  },
  {
   "cell_type": "code",
   "execution_count": 30,
   "id": "d8d725cf",
   "metadata": {},
   "outputs": [
    {
     "name": "stdout",
     "output_type": "stream",
     "text": [
      "              precision    recall  f1-score   support\n",
      "\n",
      "           0       0.84      0.94      0.89        62\n",
      "           1       0.81      0.61      0.69        28\n",
      "\n",
      "    accuracy                           0.83        90\n",
      "   macro avg       0.83      0.77      0.79        90\n",
      "weighted avg       0.83      0.83      0.83        90\n",
      "\n"
     ]
    }
   ],
   "source": [
    "# pelatihan model\n",
    "rfClf = RandomForestClassifier(n_estimators=500, random_state=random_state) # 500 trees. \n",
    "svmClf = SVC(probability=True, random_state=random_state) # probability calculation\n",
    "logClf = LogisticRegression(random_state=random_state)\n",
    "\n",
    "# constructing the ensemble classifier by mentioning the individual classifiers.\n",
    "clf2 = VotingClassifier(estimators = [('rf',rfClf), ('svm',svmClf), ('log', logClf)], voting='soft') \n",
    "clf2.fit(X_train, y_train)\n",
    "\n",
    "y_pred1 = clf2.predict(X_test)\n",
    "\n",
    "# evaluasi model\n",
    "confusion_matrix(y_test,y_pred1)\n",
    "print(classification_report(y_test,y_pred1))"
   ]
  },
  {
   "cell_type": "markdown",
   "id": "8f3f48d5",
   "metadata": {},
   "source": [
    "## Boosting\n",
    "The main idea behind boosting is to convert weak learners to strong learners in sequential iterations."
   ]
  },
  {
   "cell_type": "markdown",
   "id": "8b5770df",
   "metadata": {},
   "source": [
    "### Extreme Gradient Boosting"
   ]
  },
  {
   "cell_type": "code",
   "execution_count": 31,
   "id": "869124fa",
   "metadata": {},
   "outputs": [
    {
     "name": "stdout",
     "output_type": "stream",
     "text": [
      "[0]\tvalidation_0-logloss:0.63975\n",
      "[1]\tvalidation_0-logloss:0.59577\n",
      "[2]\tvalidation_0-logloss:0.56053\n",
      "[3]\tvalidation_0-logloss:0.52838\n",
      "              precision    recall  f1-score   support\n",
      "\n",
      "           0       0.86      0.90      0.88        62\n",
      "           1       0.76      0.68      0.72        28\n",
      "\n",
      "    accuracy                           0.83        90\n",
      "   macro avg       0.81      0.79      0.80        90\n",
      "weighted avg       0.83      0.83      0.83        90\n",
      "\n"
     ]
    }
   ],
   "source": [
    "# pelatihan model\n",
    "xgb1 = XGBClassifier(colsample_bytree = 1.0, \n",
    "                    learning_rate = 0.1,\n",
    "                    max_depth = 4,\n",
    "                    n_estimators = 4,\n",
    "                    subsample = 1.0)\n",
    "\n",
    "eval_set = [(X_test, y_test)]\n",
    "xgb1.fit(X_train, y_train, early_stopping_rounds = 10, \n",
    "         eval_metric = 'logloss', eval_set = eval_set, \n",
    "         verbose = True)\n",
    "\n",
    "pred = xgb1.predict(X_test)\n",
    "\n",
    "# evaluasi model\n",
    "confusion_matrix(y_test,pred)\n",
    "print(classification_report(y_test,pred))"
   ]
  },
  {
   "cell_type": "markdown",
   "id": "00cb75b3",
   "metadata": {},
   "source": [
    "# Final Model"
   ]
  },
  {
   "cell_type": "markdown",
   "id": "aae94400",
   "metadata": {},
   "source": [
    "Dari berbagai algoritma ensemble models yang telah dilakukan dapat dibandingkan berdasarkan accuracy yaitu sebagai berikut :\n",
    "\n",
    "|Algorithm              | Accuracy           |\n",
    "|-----------------------|--------------------|\n",
    "| Random Forest         | 0.84               |\n",
    "| Bagging Classifier    | 0.81               |\n",
    "| Extra Tree Classifier | 0.87               |\n",
    "| Voting Classifier     | 0.83               |\n",
    "| XGBoost               | 0.83               |"
   ]
  },
  {
   "cell_type": "code",
   "execution_count": 32,
   "id": "47a9ad1b",
   "metadata": {},
   "outputs": [],
   "source": [
    "# pelatihan model\n",
    "extra_tree=ExtraTreesClassifier(random_state=random_state)\n",
    "extra_tree.fit(X_train, y_train)\n",
    "\n",
    "y_pred1 = extra_tree.predict(X_test)"
   ]
  },
  {
   "cell_type": "code",
   "execution_count": 33,
   "id": "dd1ff6a3",
   "metadata": {
    "scrolled": true
   },
   "outputs": [
    {
     "name": "stdout",
     "output_type": "stream",
     "text": [
      "accuracy_score: 0.8666666666666667\n"
     ]
    },
    {
     "data": {
      "image/png": "[encoded data removed]",
      "text/plain": [
       "<Figure size 432x288 with 2 Axes>"
      ]
     },
     "metadata": {
      "needs_background": "light"
     },
     "output_type": "display_data"
    }
   ],
   "source": [
    "from sklearn.metrics import plot_confusion_matrix\n",
    "\n",
    "print('accuracy_score:', accuracy_score(y_test, y_pred1))\n",
    "\n",
    "plot_confusion_matrix(extra_tree, X_test, y_test, values_format='0.7g')\n",
    "plt.title('Confusion Matrix Voting Classifiers')\n",
    "plt.show()"
   ]
  },
  {
   "cell_type": "markdown",
   "id": "bed24e8f",
   "metadata": {},
   "source": [
    "Matriks yang diperoleh menunjukkan hasil sebagai berikut:\n",
    "- 58 prediksi true negatif : 58 data prediksi benar dinyatakan sebagai nol\n",
    "- 8 prediksi false negatif: 8 data prediksi salah dinyatakan sebagai nol.\n",
    "- 4 prediksi false positif: 4 data prediksi salah dinyatakan sebagai satu.\n",
    "- 20 prediksi positif yang benar: 20 data prediksi benar dinyatakan sebagai satu."
   ]
  },
  {
   "cell_type": "markdown",
   "id": "f1f07f02",
   "metadata": {},
   "source": [
    "Sehingga model ensemble yang paling baik digunakan untuk memprediksi keselamatan pasien dari penyakit jantung kardiovaskuler yaitu **Extra Tree Classifiers** dengan nilai accuracy 87%."
   ]
  },
  {
   "cell_type": "code",
   "execution_count": 34,
   "id": "9c60196e",
   "metadata": {},
   "outputs": [
    {
     "data": {
      "text/plain": [
       "['model_ensemble.pkl']"
      ]
     },
     "execution_count": 34,
     "metadata": {},
     "output_type": "execute_result"
    }
   ],
   "source": [
    "#save model\n",
    "\n",
    "joblib.dump(extra_tree, 'model_ensemble.pkl')"
   ]
  },
  {
   "cell_type": "code",
   "execution_count": 35,
   "id": "b10910d0",
   "metadata": {},
   "outputs": [
    {
     "data": {
      "text/plain": [
       "array([0, 0, 0, 0, 0, 0, 0, 0, 1, 0, 0, 1, 1, 0, 1, 1, 0, 0, 0, 0, 1, 0,\n",
       "       0, 0, 1, 0, 1, 0, 0, 0, 0, 1, 1, 0, 0, 0, 0, 1, 0, 1, 0, 1, 0, 1,\n",
       "       1, 0, 0, 0, 1, 1, 0, 0, 0, 0, 1, 0, 0, 1, 0, 0, 1, 0, 0, 0, 0, 0,\n",
       "       0, 0, 1, 1, 0, 0, 0, 1, 0, 0, 1, 0, 0, 0, 0, 0, 0, 0, 0, 0, 0, 0,\n",
       "       0, 0], dtype=int64)"
      ]
     },
     "execution_count": 35,
     "metadata": {},
     "output_type": "execute_result"
    }
   ],
   "source": [
    "model_ensemble = joblib.load('model_ensemble.pkl')\n",
    "model_ensemble.predict(X_test)"
   ]
  },
  {
   "cell_type": "markdown",
   "id": "4037b715",
   "metadata": {},
   "source": [
    "# Prediction"
   ]
  },
  {
   "cell_type": "markdown",
   "id": "2219338b",
   "metadata": {},
   "source": [
    "####  <span style='background:yellow'>Follow  these instructions before predicting the price:</span> \n",
    "<hr>\n",
    "\n",
    "-  **For age**: Enter age value (ex : 40)\n",
    "\n",
    "- **For ejection_fraction** : <font color = 'red'>Enter Ejection Fraction value (ex : 20)</font>\n",
    "\n",
    "- **for serum_creatinine**:  <font color = 'blue'>Enter serum creatinine value between 1 - 10 (ex : 1.5) </font>\n",
    "\n",
    "- **Time** : <font color = 'green'>Enter Time Value (ex : 6)</font>\n",
    "\n",
    "####  <span style='background:yellow'>Hasil Prediksi:</span> \n",
    "<hr>\n",
    "\n",
    "- **0**: pasien hidup\n",
    "\n",
    "- **1**: pasien meninggal"
   ]
  },
  {
   "cell_type": "markdown",
   "id": "c7b036fc",
   "metadata": {},
   "source": [
    "Misalkan prediksi pasien dengan kriteria sebagai berikut :\n",
    "1. age = 55 tahun\n",
    "2. ejection_fraction = 30\n",
    "3. serum_creatinine = 3\n",
    "4. Time = 10"
   ]
  },
  {
   "cell_type": "code",
   "execution_count": 36,
   "id": "3b73354c",
   "metadata": {},
   "outputs": [
    {
     "data": {
      "text/plain": [
       "array([0], dtype=int64)"
      ]
     },
     "execution_count": 36,
     "metadata": {},
     "output_type": "execute_result"
    }
   ],
   "source": [
    "model_ensemble.predict([[55, 30, 3, 10]])"
   ]
  },
  {
   "cell_type": "markdown",
   "id": "5a6f7701",
   "metadata": {},
   "source": [
    "Hasil prediksinya yaitu pasien dengan kriteria seperti di atas adalah 0 yang artinya pasien selamat dari penyakit jantung kardiovaskuler."
   ]
  },
  {
   "cell_type": "markdown",
   "id": "e9ed28ab",
   "metadata": {},
   "source": [
    "# Kesimpulan"
   ]
  },
  {
   "cell_type": "markdown",
   "id": "16e7b269",
   "metadata": {},
   "source": [
    "1. Pada project ini dilakukan prediksi keselamatan pasien dari penyakit jantung kardiovaskuler dengan variabel dependen yaitu 'DEATH_EVENT', serta variabel independen yaitu 'age', 'ejection_fraction', 'serum_creatinine' dan 'time'\n",
    "\n",
    "\n",
    "2. Dari 12 variabel independen pada dataset, dipilih variabel 'age', 'ejection_fraction', 'serum_creatinine' dan 'time' untuk memprediksi keselamatan pasien karena variabel tersebut memiliki korelasi yang cukup besar terhadap variabel 'DEATH_EVENT' dengan nilai korelasi lebih dari 0.2\n",
    "\n",
    "\n",
    "3. Dari beberapa model ensemble yang dilakukan terhadap dataset dengan split data 70:30, diperoleh nilai akurasinya sebagai berikut:\n",
    "|Algorithm              | Accuracy           |\n",
    "|-----------------------|--------------------|\n",
    "| Random Forest         | 0.84               |\n",
    "| Bagging Classifier    | 0.81               |\n",
    "| Extra Tree Classifier | 0.87               |\n",
    "| Voting Classifier     | 0.83               |\n",
    "| XGBoost               | 0.83               |\n",
    "\n",
    "\n",
    "4. Berdasarkan nilai akurasinya, maka model **Extra Tree Classifier** merupakan model terbaik untuk memprediksi keselamatan pasien karena memiliki nilai akurasi tertinggi yaitu sebesar **0.87 atau 87%**"
   ]
  },
  {
   "cell_type": "code",
   "execution_count": null,
   "id": "8dd57c3b",
   "metadata": {},
   "outputs": [],
   "source": []
  }
 ],
 "metadata": {
  "kernelspec": {
   "display_name": "Python 3 (ipykernel)",
   "language": "python",
   "name": "python3"
  },
  "language_info": {
   "codemirror_mode": {
    "name": "ipython",
    "version": 3
   },
   "file_extension": ".py",
   "mimetype": "text/x-python",
   "name": "python",
   "nbconvert_exporter": "python",
   "pygments_lexer": "ipython3",
   "version": "3.9.7"
  }
 },
 "nbformat": 4,
 "nbformat_minor": 5
}
